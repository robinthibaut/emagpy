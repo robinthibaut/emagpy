{
 "cells": [
  {
   "cell_type": "markdown",
   "metadata": {},
   "source": [
    "# Sensitivity, Gauss-Newton and DOI\n",
    "This notebook illustrates synthetically the 1D sensitivity of the different FDEM forward model and their implications."
   ]
  },
  {
   "cell_type": "code",
   "execution_count": 1,
   "metadata": {},
   "source": [
    "import sys\n",
    "sys.path.append('../src')\n",
    "from emagpy import Problem\n",
    "import numpy as np\n",
    "import matplotlib.pyplot as plt"
   ],
   "outputs": []
  },
  {
   "cell_type": "markdown",
   "metadata": {},
   "source": [
    "## Sensitivity\n",
    "By perturbing each layer of the model slightly an computing the effect it has on the apparent electrical conductivity observed, one can reconstruct the sensitivity profile of each 1D model. This is done automatically in the `computeSens()` method."
   ]
  },
  {
   "cell_type": "code",
   "execution_count": 2,
   "metadata": {},
   "source": [
    "k = Problem()\n",
    "k.createSurvey('../src/examples/cover-crop/coverCropTransect.csv')\n",
    "k.filterRange(vmax=50)\n",
    "k.setInit(depths0=np.linspace(0.1, 2, 10))\n",
    "k.depths = k.depths0.copy() # need to specify initial model to compute sensitivity\n",
    "k.models = k.conds0.copy()\n",
    "sens = k.computeSens()\n",
    "\n",
    "depth = k.depths[0][0,:]\n",
    "mdepths = np.r_[depth[0]/2, depth[:-1] + np.diff(depth)/2, depth[-1]]\n",
    "fig, ax = plt.subplots()\n",
    "ax.plot(sens[0][:,:,0], -mdepths)\n",
    "ax.set_xlabel('Normalised Sensitivity')\n",
    "ax.set_ylabel('Depth [m]')"
   ],
   "outputs": []
  },
  {
   "cell_type": "markdown",
   "metadata": {},
   "source": [
    "Note that the sensitivity of the last layer is large as this layer extend to $-\\infty$ hence containing the remaining sensitivity."
   ]
  },
  {
   "cell_type": "markdown",
   "metadata": {},
   "source": [
    "## Gauss-Newton approach\n",
    "The sensitivity recovered from the 'perturbed method' can help to compute the Jacobian matrix needed to use the Gauss-Newton method. This method is now available in the `invert` method."
   ]
  },
  {
   "cell_type": "code",
   "execution_count": 3,
   "metadata": {},
   "source": [
    "k.invert(forwardModel='CS', method='Gauss-Newton', alpha=0.07, regularization='l2')\n",
    "k.showResults()"
   ],
   "outputs": []
  },
  {
   "cell_type": "code",
   "execution_count": 4,
   "metadata": {},
   "source": [
    "fig, axs = plt.subplots(2, 1)\n",
    "ax = axs[0]\n",
    "k.invert(forwardModel='CS', method='L-BFGS-B', alpha=0.07, regularization='l2')\n",
    "k.showResults(index=0, ax=ax, vmin=10, vmax=35, maxDepth=2.2, rmse=True)\n",
    "ax.set_title('(a) Minimise approach')\n",
    "\n",
    "ax = axs[1]\n",
    "k.invert(forwardModel='CS', method='Gauss-Newton', alpha=0.07, regularization='l2')\n",
    "k.showResults(index=0, ax=ax, vmin=10, vmax=35, maxDepth=2.2, rmse=True)\n",
    "ax.set_title('(b) Gauss-Newton approach')"
   ],
   "outputs": []
  },
  {
   "cell_type": "code",
   "execution_count": 5,
   "metadata": {},
   "source": [
    "k.showOne2one()"
   ],
   "outputs": []
  },
  {
   "cell_type": "markdown",
   "metadata": {},
   "source": [
    "# Depth of investigation\n",
    "A depth of investigation (DOI) can be computed assuming that 70% of the signal comes above this depth. This is done using the cumulated sensitivity profiles computed from `computeSens()`. The deepest DOI of all configurations is chosen. DOI are computed using `computeDOI()` and can be plotted on top of the inverted model using `showResults(doi=True)`.\n",
    "> Note that if the DOI is deeper than the last depth of the inverted model, the DOI will be set to the greatest depth. That should mean that you can probably make your model deeper as the coils configuration collected allow it."
   ]
  },
  {
   "cell_type": "code",
   "execution_count": 6,
   "metadata": {},
   "source": [
    "# for CS on no high EC ground, the DOI will be constant\n",
    "k = Problem()\n",
    "k.createSurvey('../src/examples/cover-crop/coverCropTransect.csv')\n",
    "k.filterRange(vmax=50)\n",
    "k.setInit(depths0=np.linspace(0.1, 2, 20))\n",
    "k.invert(method='Gauss-Newton')\n",
    "k.computeDOI()\n",
    "k.showResults(doi=True)"
   ],
   "outputs": []
  },
  {
   "cell_type": "code",
   "execution_count": 7,
   "metadata": {},
   "source": [
    "# for FS on high EC ground it might change\n",
    "k = Problem()\n",
    "k.createSurvey('../src/examples/cover-crop/coverCropTransect.csv')\n",
    "k.filterRange(vmax=50)\n",
    "s0 = k.surveys[0]\n",
    "s0.df.loc[:, s0.coils] = s0.df[s0.coils].values*2000 # increase ECa artificially\n",
    "k.setInit(depths0=np.linspace(0.1, 2, 10))\n",
    "k.invert(forwardModel='FSlin', method='Gauss-Newton')\n",
    "k.computeDOI(nlayers=15) # this takes a while\n",
    "k.showResults(doi=True)"
   ],
   "outputs": []
  },
  {
   "cell_type": "markdown",
   "metadata": {},
   "source": [
    "### Observations\n",
    "- no change in DOI with CS as CS is mathematically defined and does not depend on the EC values of the inverted profile\n",
    "- decrease in DOI with FS on very conductive (EC > 1000) model.\n",
    "Note that if the top layer had a large EC (> 1000) compared the bottom layers, this will create a 'shielding' effect and decrease the sensitivity to underneath layers."
   ]
  }
 ],
 "metadata": {
  "kernelspec": {
   "display_name": "Python 3 (ipykernel)",
   "language": "python",
   "name": "python3"
  },
  "language_info": {
   "codemirror_mode": {
    "name": "ipython",
    "version": 3
   },
   "file_extension": ".py",
   "mimetype": "text/x-python",
   "name": "python",
   "nbconvert_exporter": "python",
   "pygments_lexer": "ipython3",
   "version": "3.10.12"
  }
 },
 "nbformat": 4,
 "nbformat_minor": 4
}
