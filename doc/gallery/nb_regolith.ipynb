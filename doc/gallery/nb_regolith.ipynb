{
 "cells": [
  {
   "cell_type": "markdown",
   "metadata": {
    "Collapsed": "false"
   },
   "source": [
    "# Spatial data\n",
    "This notebook focus on representation of spatial EMI survey using EMagPy Python API.\n",
    "\n",
    "First let's start with an example where spatial EMI data were collected on a ~30 cm thick soil over a clay-rich regolith."
   ]
  },
  {
   "cell_type": "code",
   "execution_count": 1,
   "metadata": {
    "Collapsed": "false"
   },
   "source": [
    "# import modules\n",
    "import os\n",
    "import sys\n",
    "sys.path.insert(0,'../src/')\n",
    "testdir = '../src/examples/saprolite/'\n",
    "from emagpy import Problem"
   ],
   "outputs": []
  },
  {
   "cell_type": "code",
   "execution_count": 2,
   "metadata": {
    "Collapsed": "false"
   },
   "source": [
    "# import data\n",
    "k = Problem()\n",
    "k.createSurvey(testdir + 'mexpl.csv')"
   ],
   "outputs": []
  },
  {
   "cell_type": "code",
   "execution_count": 3,
   "metadata": {
    "Collapsed": "false"
   },
   "source": [
    "k.show()"
   ],
   "outputs": []
  },
  {
   "cell_type": "code",
   "execution_count": 4,
   "metadata": {
    "Collapsed": "false"
   },
   "source": [
    "# the X and Y coordinates of the survey are already in British Grid (EPSG:27700)\n",
    "k.showMap()"
   ],
   "outputs": []
  },
  {
   "cell_type": "code",
   "execution_count": 5,
   "metadata": {
    "Collapsed": "false"
   },
   "source": [
    "k.showMap(coil=k.coils[2], contour=True, pts=True) # contouring of third coil"
   ],
   "outputs": []
  },
  {
   "cell_type": "markdown",
   "metadata": {
    "Collapsed": "false"
   },
   "source": [
    "Now one can use the different interpolation method to get a map. Let's compare them below."
   ]
  },
  {
   "cell_type": "code",
   "execution_count": 6,
   "metadata": {
    "Collapsed": "false"
   },
   "source": [
    "k = Problem()\n",
    "k.createSurvey(testdir + 'regolith.csv')\n",
    "k.convertFromNMEA()\n",
    "k.gridData(method='nearest')\n",
    "k.showMap()"
   ],
   "outputs": []
  },
  {
   "cell_type": "code",
   "execution_count": 7,
   "metadata": {
    "Collapsed": "false"
   },
   "source": [
    "k = Problem()\n",
    "k.createSurvey(testdir + 'regolith.csv')\n",
    "k.convertFromNMEA()\n",
    "k.showMap()"
   ],
   "outputs": []
  },
  {
   "cell_type": "code",
   "execution_count": 8,
   "metadata": {
    "Collapsed": "false"
   },
   "source": [
    "k = Problem() # create an emagpy instance\n",
    "k.createSurvey(testdir + 'regolith.csv')\n",
    "k.convertFromNMEA()\n",
    "k.gridData(method='cubic')\n",
    "k.showMap()"
   ],
   "outputs": []
  },
  {
   "cell_type": "code",
   "execution_count": 9,
   "metadata": {
    "Collapsed": "false"
   },
   "source": [
    "k = Problem() # create an emagpy instance\n",
    "k.createSurvey(testdir + 'regolith.csv')\n",
    "k.convertFromNMEA()\n",
    "k.gridData(method='idw')\n",
    "k.showMap()"
   ],
   "outputs": []
  },
  {
   "cell_type": "markdown",
   "metadata": {
    "Collapsed": "false"
   },
   "source": [
    "## Observations\n",
    "Cubic interpolation seems to perform the best and IDW has this problem of small mountains around the points. This might be solved by changing the exponent of the inverpolation in the function of IDW. Note that we haven't compare it to kriging yet."
   ]
  },
  {
   "cell_type": "code",
   "execution_count": null,
   "metadata": {
    "Collapsed": "false"
   },
   "source": [],
   "outputs": []
  }
 ],
 "metadata": {
  "kernelspec": {
   "display_name": "Python 3 (ipykernel)",
   "language": "python",
   "name": "python3"
  },
  "language_info": {
   "codemirror_mode": {
    "name": "ipython",
    "version": 3
   },
   "file_extension": ".py",
   "mimetype": "text/x-python",
   "name": "python",
   "nbconvert_exporter": "python",
   "pygments_lexer": "ipython3",
   "version": "3.10.12"
  }
 },
 "nbformat": 4,
 "nbformat_minor": 4
}
