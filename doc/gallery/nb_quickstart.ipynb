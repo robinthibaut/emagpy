{
 "cells": [
  {
   "cell_type": "markdown",
   "metadata": {},
   "source": [
    "# EMagPy Quickstart\n",
    "In this tutorial you will learn how to import and processes EMI data with the emagpy API (Application Progamming Interface). The API is a set of classes, function and methods that can be called from the command line or in script and jupyter notebook. EMagPy also has a graphical user interface (GUI) that make use of the API behind the scene. The advantage of the API is that is allows more automated task to be performed and user in interactive environment such as this jupyter notebook."
   ]
  },
  {
   "cell_type": "markdown",
   "metadata": {},
   "source": [
    "## Import EMagPy\n",
    "You can either download emagpy from source from https://gitlab.com/hkex/emagpy or install it using `pip install emagpy`. Then you can import the main class from the emagpy module: `Problem`."
   ]
  },
  {
   "cell_type": "code",
   "execution_count": 1,
   "metadata": {},
   "source": [
    "import os\n",
    "import numpy as np\n",
    "import sys\n",
    "import pandas as pd\n",
    "sys.path.insert(0,'../src/') # this add the emagpy/src directory to the PATH\n",
    "from emagpy import Problem # import the main Problem class from emagpy"
   ],
   "outputs": []
  },
  {
   "cell_type": "markdown",
   "metadata": {
    "collapsed": "false",
    "jupyter": {
     "outputs_hidden": "false"
    }
   },
   "source": [
    "## Data import\n",
    "After importing the module we will import the file `coverCrop.csv` from the test folder."
   ]
  },
  {
   "cell_type": "code",
   "execution_count": 2,
   "metadata": {},
   "source": [
    "testdir = '../src/examples/cover-crop/'\n",
    "\n",
    "k = Problem() # this create the main object\n",
    "k.createSurvey(testdir + 'coverCrop.csv') # this import the data"
   ],
   "outputs": []
  },
  {
   "cell_type": "markdown",
   "metadata": {
    "collapsed": "false",
    "jupyter": {
     "outputs_hidden": "false"
    }
   },
   "source": [
    "The data are usually imported from a .csv file with the headers being the coil configuration. Below is an example of the `coverCrop.csv` file."
   ]
  },
  {
   "cell_type": "code",
   "execution_count": 3,
   "metadata": {},
   "source": [
    "import pandas as pd\n",
    "df = pd.read_csv(testdir + 'coverCrop.csv')\n",
    "df.head() # see how the header are formatted"
   ],
   "outputs": []
  },
  {
   "cell_type": "markdown",
   "metadata": {
    "collapsed": "false",
    "jupyter": {
     "outputs_hidden": "false"
    }
   },
   "source": [
    "## Data visualization\n",
    "You can use the `Problem.show()` function to visualize the data as a line graph. Additionnaly if spatial coordinates are in the csv file (columns x an y). A map can also be produced using `Problem.showMap()`."
   ]
  },
  {
   "cell_type": "code",
   "execution_count": 4,
   "metadata": {},
   "source": [
    "k.show(vmax=50)"
   ],
   "outputs": []
  },
  {
   "cell_type": "code",
   "execution_count": 5,
   "metadata": {},
   "source": [
    "k.showMap(coil='VCP0.71', contour=True, pts=True)"
   ],
   "outputs": []
  },
  {
   "cell_type": "markdown",
   "metadata": {
    "collapsed": "false",
    "jupyter": {
     "outputs_hidden": "false"
    }
   },
   "source": [
    "## Data inversion\n",
    "To invert the data we must first define a starting model with a given number of layers and a starting conductivity in mS/m."
   ]
  },
  {
   "cell_type": "code",
   "execution_count": 6,
   "metadata": {},
   "source": [
    "k.setInit(depths0=[0.5, 1], # specify the BOTTOM of each layer (the last layer is infinite)\n",
    "          conds0=[20, 20, 20],\n",
    "          fixedConds=[False, False, False])# conductivity in mS/m"
   ],
   "outputs": []
  },
  {
   "cell_type": "markdown",
   "metadata": {
    "collapsed": "false",
    "jupyter": {
     "outputs_hidden": "false"
    }
   },
   "source": [
    "Then there are different forward model available:\n",
    "- `CS` : Cumulative Senstivity (following McNeil 1980). Default and fastest forward model.\n",
    "- `CSgn` : Which is a fast Gauss-Newton inversion based on CS. Choosing this forward model will automatically make use of the `Problem.ìnvertGN()` method and ignore the arguments passed to `invert()` except `alpha`.\n",
    "- `FSlin` : Full Solution based on Maxwell's equations using the LIN (Low Induction Number) approximation to convert the quadrature (Q) to ECa\n",
    "- `FSeq` : Full Solution based on Maxwell's equations that doesn't rely on the LIN but rather compute an apparent value based on optimization (see Andrade et al., 2016).\n",
    "- `Q` : Full Solution based on Maxwell's equations where the quadrature (Q) is directly minimize without being converted to ECa. This forward model is prefered for high EC (> 100 mS/m).\n",
    "\n",
    "To solve the optimization problem, two types of solvers are available:\n",
    "- `L-BFGS-B` (default), `TNC`, `CG`, `Nelder-Mead` minimizes an objective function using `scipy.optimize.minimize()`.\n",
    "- `ROPE`, `SCEUA`, `DREAM` are MCMC-based method provided by the `spotpy` package that works well when the depth of each layer is not fixed.\n",
    "\n",
    "The inverted section can be seen using `showResults()` and `showSlice()` if spatial data are available. The quality of the inversion can be assessed using `showMisfit()` and `showOne2one()`."
   ]
  },
  {
   "cell_type": "code",
   "execution_count": 7,
   "metadata": {},
   "source": [
    "# default minimize() based inversion with CS and L-BFGS-B solver\n",
    "k.invert()\n",
    "k.showResults()\n",
    "k.showMisfit()\n",
    "k.showOne2one()"
   ],
   "outputs": []
  },
  {
   "cell_type": "code",
   "execution_count": 8,
   "metadata": {},
   "source": [
    "k.showSlice(islice=0, contour=True, vmin=12, vmax=50)\n",
    "k.showSlice(islice=2, contour=True, vmin=12, vmax=50)"
   ],
   "outputs": []
  },
  {
   "cell_type": "code",
   "execution_count": 9,
   "metadata": {},
   "source": [
    "help(k.showSlice) # how to access the help for each method"
   ],
   "outputs": []
  },
  {
   "cell_type": "code",
   "execution_count": null,
   "metadata": {
    "collapsed": true,
    "jupyter": {
     "outputs_hidden": true
    }
   },
   "source": [],
   "outputs": []
  }
 ],
 "metadata": {
  "kernelspec": {
   "display_name": "Python 3 (ipykernel)",
   "language": "python",
   "name": "python3"
  },
  "language_info": {
   "codemirror_mode": {
    "name": "ipython",
    "version": 3
   },
   "file_extension": ".py",
   "mimetype": "text/x-python",
   "name": "python",
   "nbconvert_exporter": "python",
   "pygments_lexer": "ipython3",
   "version": "3.10.12"
  }
 },
 "nbformat": 4,
 "nbformat_minor": 4
}
