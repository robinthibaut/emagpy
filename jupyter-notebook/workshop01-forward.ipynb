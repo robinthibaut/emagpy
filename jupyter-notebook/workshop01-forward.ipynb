{
 "cells": [
  {
   "cell_type": "markdown",
   "metadata": {},
   "source": [
    "# Forward modelling with EMagPy\n",
    "This notebook aims at presenting the Python API of the EMagPy project (https://gitlab.com/hkex/emagpy). The Python API is the working core of EMagPy and is what the GUI is calling for processing the data. The advantage of the Python API over the GUI is that is allows more automated task to be written but also interactive execution in a jupyter notebook.\n",
    "\n",
    "Although EMagPy can use both cumulative sensitivity and a Maxwell based forward model, to run more quickly here we focus on the cumulative sensitivity function. From experience, the cumulative sensitvity function performs well when devices are operated at ground level in low conductivity environments.\n",
    "\n",
    "The `emagpy` Python module can be downloaded from the website (running from source) or installed using `pip install emagpy`. Let's first import the needed packages.\n",
    "\n",
    "> NOTE: execute each code cell can by pressing `Shift`+`Enter` or the play/run button of the interface."
   ]
  },
  {
   "cell_type": "code",
   "execution_count": 1,
   "metadata": {},
   "source": [
    "# adding the source path of emagpy to the PATH (only needed when run from source)\n",
    "import sys\n",
    "sys.path.append('../src/')\n",
    "\n",
    "# import modules\n",
    "from emagpy import Problem\n",
    "import numpy as np\n",
    "import matplotlib.pyplot as plt"
   ],
   "outputs": []
  },
  {
   "cell_type": "markdown",
   "metadata": {},
   "source": [
    "## Introduction\n",
    "\n",
    "In this challenge the goal is to explore the synthetic modelling capabilities of EMagPy. The main class of the EMagPy is the `Problem` class, it contains methods for inverting (`Problem.invert()`) and modelling (`Problem.forward()`).\n",
    "\n",
    "In this example, the goal will be to generate noisy data for the following synthetic case and invert them. For this we will use the `Problem.forward()` and `Problem.invert()` methods.\n",
    "\n",
    "![fwdmod](image/fwdmod.png)\n",
    "\n",
    "Data will be generated for the specifications of the GF Instruments CMD Explorer device for the case when the device is operated at ground level (0 m elevation). This generation of synthetic data, and subsequent inverse modelling, can be done in 4 simple steps:"
   ]
  },
  {
   "cell_type": "markdown",
   "metadata": {},
   "source": [
    "## 1. Define model parameters"
   ]
  },
  {
   "cell_type": "code",
   "execution_count": 2,
   "metadata": {},
   "source": [
    "nlayer = 2 # number of layers in model\n",
    "npos = 30 # number of positions/sampling locations\n",
    "x = np.linspace(0, 2*np.pi, npos)[:,None] # specify x position along transect\n",
    "depths = 0.5 + (1+np.sin((x))) # generate depth based on x position along transect (positive!)\n",
    "conds = np.ones((npos, nlayer))*[5, 35] # electrical conductivity in mS/m of upper and lower layer"
   ],
   "outputs": []
  },
  {
   "cell_type": "markdown",
   "metadata": {},
   "source": [
    "## 2. Define device setup (coil configuration, frequency, height above ground)\n",
    "In EMagPy device setup can be specified using the following:\n",
    "- coil orientation: VCP (Vertical Co-Planar), HCP (Horizontal Co-Planar) or PRP (PeRPendicular)\n",
    "- coil separation: separation between transmitter and receiver coil in metres\n",
    "- frequency: operating frequency in Hz\n",
    "- height above ground: operation height in metres\n",
    "\n",
    "e.g. `VCP0.32f30000h1` is decomposed as:\n",
    "- `VCP` orientation\n",
    "- with `0.32` m coil separation\n",
    "- operating at `30000` Hz frequency\n",
    "- at `1` m above the ground.\n",
    "\n",
    "For instance the device setup for the GF Instruments CMD Explorer operated at ground level are as follows:"
   ]
  },
  {
   "cell_type": "code",
   "execution_count": 3,
   "metadata": {},
   "source": [
    "coils0 = ['VCP1.48f10000h0', 'VCP2.82f10000h0', 'VCP4.49f10000h0', 'HCP1.48f10000h0', 'HCP2.82f10000h0', 'HCP4.49f10000h0']"
   ],
   "outputs": []
  },
  {
   "cell_type": "markdown",
   "metadata": {},
   "source": [
    "## 3. Generate synthetic data\n",
    "\n",
    "After creating an instance of the `Problem` class using `k = Problem()`. The conductivity model and the depth created at step 1 can be assigned using `k.setModels([depths], [conds])`.\n",
    "\n",
    "Then `k.forward()` can be called with the following choice of arguments:\n",
    "- `forwardModel` specifies the forward model to use, choose from `CS`, `FSeq`, and `FSlin`:\n",
    "    - `CS` refers to the cumulative sensitivity function described by McNeil et al. (1980)\n",
    "    - `FSlin` refers to a Maxwell function with conversion to ECa using Low Induction Number approximation described by McNeil et al. (1980)\n",
    "    - `FSeq` refers to a Maxwell function with conversion to ECa using method described by [Andrade et al. (2016)](https://doi.org/10.3997/2214-4609.201602080)\n",
    "- `noise` specifies the random (Gaussian) noise to be added to the data, e.g. `noise=0.02` means 2% noise\n",
    "\n",
    "For example 5% noise data for the GF CMD Explorer and the above synthetic model could be generated using `CS` by: \n",
    "\n",
    "`k.forward(forwardModel='CS', coils=coils0, noise=0.05)`\n",
    "\n",
    "The generated apparent ECa values can then be shown by: `k.show()`"
   ]
  },
  {
   "cell_type": "code",
   "execution_count": 4,
   "metadata": {},
   "source": [
    "k = Problem() # create an instance of the Problem class\n",
    "k.setModels([depths], [conds]) # create synthetic model based on conductivities and depths defined in step 1\n",
    "k.forward(forwardModel='CS', coils=coils0, noise=0.00) # perform forward modellling\n",
    "k.showResults(vmin=0) # show the model\n",
    "k.show(vmin=0) # show the synthetic ECa generated"
   ],
   "outputs": []
  },
  {
   "cell_type": "markdown",
   "metadata": {},
   "source": [
    "## 4. Invert synthetic data\n",
    "\n",
    "First of all, the initial model needs to be specified using `setInit()`.\n",
    "\n",
    "For instance `k.setInit(depths0=[0.5, 1], fixedDepths=[False, True], conds0=[30, 20, 20], fixedConds=[True, False, False])` specifies a 3 layer model with the bottom of the first layer at -0.5 m and the bottom of the second layer at -1 m (the third layer goes to $-\\infty$). The depth of first layer is fixed while the depth of the second layer can be modified in the inversion. The EC of the first layer is 30 mS/m and is fixed in the inversion whilst the EC of the other layers is 20 mS/m an can vary during the inversion.\n",
    "\n",
    "\n",
    "As with `forward()`, `invert()` uses several key arguments:\n",
    "- `forwardModel` is required as described above.\n",
    "- `method` specifies whether deterministic methods (`L-BFGS-B`, `CG`) or probablistic methods (`ROPE`, `SCEUA`) should be used.\n",
    "- `regularization` specifies whether `l1` or `l2` regularization is used\n",
    "- `njobs` specifies how many cores to use in parallel, `-1` will use all available cores, `-2` will use all but 1 core, otherwise a number can be specified\n",
    "- `alpha` determines the influence of model misfit on the total misfit of the inverse problem\n",
    "- `bnds` determines the boundaries for each parameter, e.g. for a 3 layer model `bnds=[(0.01, 3), (0, 80), (0, 80)])` would refer to a parameter bounds of 0.01 to 3 m for the bottom depth of layer 1 and 0 to 80 mS/m for upper and lower layer conductivities. \n",
    "> NOTE: If any parameter is specified as being `fixed` in `setInit()` then bnds should not be supplied for this parameter.\n",
    "\n",
    "e.g. `k.invert(method='ROPE',forwardModel='FSeq', rep=6000, alpha=0, regularization='l1', njobs=-1, bnds=[(0.01, 3), (0, 80), (0, 80)]))`\n",
    "\n",
    "The results can then be shown using `k.showResults()` and the misfit can be assessed using `k.showOne2one()` or `k.showMisfit()`.\n",
    "\n",
    "Note that here as a probabilistic inversion method is used `k.showResults(errorbar=True)` can be specified to error bars representing the standard deviation of the posterior distribution (posterior distribution based on the 10% best samples)."
   ]
  },
  {
   "cell_type": "code",
   "execution_count": 5,
   "metadata": {},
   "source": [
    "k.setInit(depths0=[1.5], fixedDepths=[False], # setting initial model and specify which are fixed\n",
    "          conds0=[20, 20], fixedConds=[False, False])\n",
    "k.invert(method='ROPE',forwardModel='CS', rep=1000, alpha=0, regularization='l1', njobs=-1, \n",
    "         bnds=[(0.01, 3), (0, 80), (0, 80)]) # inversion\n",
    "k.showResults(errorbar=True) # show inverted model"
   ],
   "outputs": []
  },
  {
   "cell_type": "markdown",
   "metadata": {},
   "source": [
    "## Summary"
   ]
  },
  {
   "cell_type": "code",
   "execution_count": 7,
   "metadata": {},
   "source": [
    "# =================== summary ========================\n",
    "# define model parameters\n",
    "nlayer = 2 # number of layers in model\n",
    "npos = 30 # number of positions/sampling locations\n",
    "x = np.linspace(0, 2*np.pi, npos)[:,None] # specify x position along transect\n",
    "depths = 0.5 + (1+np.sin((x))) # generate depth based on x position along transect (positive!)\n",
    "conds = np.ones((npos, nlayer))*[5, 35] # electrical conductivity in mS/m of upper and lower layer\n",
    "\n",
    "# define coil orientations\n",
    "coils0 = ['VCP1.48f10000h0', 'VCP2.82f10000h0', 'VCP4.49f10000h0', 'HCP1.48f10000h0', 'HCP2.82f10000h0', 'HCP4.49f10000h0']\n",
    "\n",
    "# forward\n",
    "k = Problem() # create an instance of the Problem class\n",
    "k.setModels([depths], [conds]) # create synthetic model based on conductivities and depths defined in step 1\n",
    "k.forward(forwardModel='CS', coils=coils0, noise=0.00) # perform forward modellling\n",
    "k.showResults(vmin=0) # show the model\n",
    "k.show(vmin=0) # show the synthetic ECa generated\n",
    "\n",
    "# invert\n",
    "k.setInit(depths0=[1.5], fixedDepths=[False], # setting initial model and specify which are fixed\n",
    "          conds0=[20, 20], fixedConds=[False, False])\n",
    "k.invert(method='ROPE',forwardModel='CS', rep=1000, alpha=0, regularization='l1', njobs=-1, \n",
    "         bnds=[(0.01, 3), (0, 80), (0, 80)]) # inversion\n",
    "k.showResults(errorbar=True) # show inverted model"
   ],
   "outputs": []
  },
  {
   "cell_type": "markdown",
   "metadata": {},
   "source": [
    "## Challenge 1: with noise\n",
    "\n",
    "If you have gotten this far we can presume the challenge has been accepted!\n",
    "\n",
    "Reusing the code described in the previous cells generate a synthetic data with **2%** noise for the GF CMD Explorer operated at **0 m** above the ground and invert it with a **fixed first layer** conductivity at **5 mS/m** using an **L2** regularisation."
   ]
  },
  {
   "cell_type": "code",
   "execution_count": 16,
   "metadata": {},
   "source": [
    "# ANSWER\n",
    "# define model parameters\n",
    "nlayer = 2 # number of layers in model\n",
    "npos = 30 # number of positions/sampling locations\n",
    "x = np.linspace(0, 2*np.pi, npos)[:,None] # specify x position along transect\n",
    "depths = 0.5 + (1+np.sin((x))) # generate depth based on x position along transect (positive!)\n",
    "conds = np.ones((npos, nlayer))*[5, 35] # electrical conductivity in mS/m of upper and lower layer\n",
    "\n",
    "# define coil orientations\n",
    "coils0 = ['VCP1.48f10000h0', 'VCP2.82f10000h0', 'VCP4.49f10000h0', 'HCP1.48f10000h0', 'HCP2.82f10000h0', 'HCP4.49f10000h0']\n",
    "\n",
    "# forward\n",
    "k = Problem() # create an instance of the Problem class\n",
    "k.setModels([depths], [conds]) # create synthetic model based on conductivities and depths defined in step 1\n",
    "k.forward(forwardModel='CS', coils=coils0, noise=0.00) # perform forward modellling\n",
    "k.showResults(vmin=0) # show the model\n",
    "k.show(vmin=0) # show the synthetic ECa generated\n",
    "\n",
    "# invert\n",
    "k.setInit(depths0=[1.5], fixedDepths=[False], # setting initial model and specify which are fixed\n",
    "          conds0=[5, 20], fixedConds=[True, False])\n",
    "k.invert(method='ROPE',forwardModel='CS', rep=300, alpha=0, regularization='l1', njobs=-1, \n",
    "         bnds=[(0.01, 3), (0, 80)]) # inversion\n",
    "k.showResults(errorbar=True) # show inverted model"
   ],
   "outputs": []
  },
  {
   "cell_type": "markdown",
   "metadata": {},
   "source": [
    "# Challenge 2: new model\n",
    "\n",
    "Now generate ECa values over a two layer model with layer 1 = 10 mS/m and layer 2 = 40 mS/m. The device is operated **0 m** above the ground and a  **2 %** noise is assumed. Invert them without fixing the EC of any layers."
   ]
  },
  {
   "cell_type": "code",
   "execution_count": 14,
   "metadata": {},
   "source": [
    "# ANSWER\n",
    "# define model parameters\n",
    "nlayer = 2 # number of layers in model\n",
    "npos = 30 # number of positions/sampling locations\n",
    "x = np.linspace(0, 2*np.pi, npos)[:,None] # specify x position along transect\n",
    "depths = 0.5 + x/15 # generate depth based on x position along transect (positive!)\n",
    "conds = np.ones((npos, nlayer))*[10, 40] # electrical conductivity in mS/m of upper and lower layer\n",
    "\n",
    "# define coil orientations\n",
    "coils0 = ['VCP1.48f10000h0', 'VCP2.82f10000h0', 'VCP4.49f10000h0', 'HCP1.48f10000h0', 'HCP2.82f10000h0', 'HCP4.49f10000h0']\n",
    "\n",
    "# forward\n",
    "k = Problem() # create an instance of the Problem class\n",
    "k.setModels([depths], [conds]) # create synthetic model based on conductivities and depths defined in step 1\n",
    "k.forward(forwardModel='CS', coils=coils0, noise=0.00) # perform forward modellling\n",
    "k.showResults(vmin=0) # show the model\n",
    "k.show(vmin=0) # show the synthetic ECa generated\n",
    "\n",
    "# invert\n",
    "k.setInit(depths0=[1.5], fixedDepths=[False], # setting initial model and specify which are fixed\n",
    "          conds0=[5, 20], fixedConds=[False, False])\n",
    "k.invert(method='ROPE',forwardModel='CS', rep=3000, alpha=0, regularization='l1', njobs=-1, \n",
    "         bnds=[(0.01, 3), (0, 80), (0, 80)]) # inversion\n",
    "k.showResults(errorbar=True) # show inverted model"
   ],
   "outputs": []
  },
  {
   "cell_type": "markdown",
   "metadata": {},
   "source": [
    "# Challenge 3: FS forward model\n",
    "\n",
    "Using Challenge 2 example, use the full Maxwell forward model with LIN assumption (`FSlin`) to produce and invert data."
   ]
  },
  {
   "cell_type": "code",
   "execution_count": 15,
   "metadata": {},
   "source": [
    "# ANSWER\n",
    "# define model parameters\n",
    "nlayer = 2 # number of layers in model\n",
    "npos = 30 # number of positions/sampling locations\n",
    "x = np.linspace(0, 2*np.pi, npos)[:,None] # specify x position along transect\n",
    "depths = 0.5 + x/15 # generate depth based on x position along transect (positive!)\n",
    "conds = np.ones((npos, nlayer))*[10, 40] # electrical conductivity in mS/m of upper and lower layer\n",
    "\n",
    "# define coil orientations\n",
    "coils0 = ['VCP1.48f10000h0', 'VCP2.82f10000h0', 'VCP4.49f10000h0', 'HCP1.48f10000h0', 'HCP2.82f10000h0', 'HCP4.49f10000h0']\n",
    "\n",
    "# forward\n",
    "k = Problem() # create an instance of the Problem class\n",
    "k.setModels([depths], [conds]) # create synthetic model based on conductivities and depths defined in step 1\n",
    "k.forward(forwardModel='FSlin', coils=coils0, noise=0.00) # perform forward modellling\n",
    "k.showResults(vmin=0) # show the model\n",
    "k.show(vmin=0) # show the synthetic ECa generated\n",
    "\n",
    "# invert\n",
    "k.setInit(depths0=[1.5], fixedDepths=[False], # setting initial model and specify which are fixed\n",
    "          conds0=[5, 20], fixedConds=[False, False])\n",
    "k.invert(method='ROPE',forwardModel='FSlin', rep=3000, alpha=0, regularization='l1', njobs=-1, \n",
    "         bnds=[(0.01, 3), (0, 80), (0, 80)]) # inversion\n",
    "k.showResults(errorbar=True) # show inverted model"
   ],
   "outputs": []
  },
  {
   "cell_type": "code",
   "execution_count": null,
   "metadata": {},
   "source": [],
   "outputs": []
  }
 ],
 "metadata": {
  "kernelspec": {
   "display_name": "Python 3 (ipykernel)",
   "language": "python",
   "name": "python3"
  },
  "language_info": {
   "codemirror_mode": {
    "name": "ipython",
    "version": 3
   },
   "file_extension": ".py",
   "mimetype": "text/x-python",
   "name": "python",
   "nbconvert_exporter": "python",
   "pygments_lexer": "ipython3",
   "version": "3.10.5"
  }
 },
 "nbformat": 4,
 "nbformat_minor": 4
}
