{
 "cells": [
  {
   "cell_type": "markdown",
   "metadata": {},
   "source": [
    "## Inversion of an water-born survey over the river Leith\n",
    "This study has been demonstrated in the EMagPy paper [McLachlan et al. (2021)](https://doi.org/10.1016/j.cageo.2020.104561).\n",
    "\n",
    "EMI can be a useful tool to investigate the interface between surface water and ground-water. In this case, EMI measurements were collected with a CMD Explorer on a kayak above the river. Using prior knowledge of the bottom of the water, EMI data can be inverted. We can see here that area of higher EC correspond quite well with area of higher hydraulic heads ([Binley et al., 2013](https://doi.org/10.1002/wrcr.20214)). This is because the ground-water EC is higher than the river EC, so in this case, EMI help us to identify zone of ground-water upwelling."
   ]
  },
  {
   "cell_type": "code",
   "execution_count": 1,
   "metadata": {},
   "source": [
    "import numpy as np\n",
    "import matplotlib.pyplot as plt\n",
    "import matplotlib as mpl\n",
    "import sys\n",
    "sys.path.append('../src') # add path where emagpy is\n",
    "from emagpy import Problem\n",
    "\n",
    "datadir = '../src/examples/'\n",
    "\n",
    "letters = ['a','b','c','d','e','f','g','h','i','j']"
   ],
   "outputs": []
  },
  {
   "cell_type": "code",
   "execution_count": 2,
   "metadata": {},
   "source": [
    "k = Problem()\n",
    "k.createSurvey(datadir + 'leith/leith_emi_heads.csv')\n",
    "k.surveys[0].df = k.surveys[0].df[::4].reset_index(drop=True)  # decimation for faster inversion\n",
    "k.rollingMean(window=20)\n",
    "wdepths = k.surveys[0].df['depth'].values # measured water depths\n",
    "k.show(dist=True)\n",
    "depths = wdepths[:,None] + np.arange(0, 3.1, 0.15)\n",
    "conds0 = np.ones(depths.shape[1]+1)*20\n",
    "fixedConds = np.zeros(depths.shape[1]+1, dtype=bool)\n",
    "conds0[0] = 48 # river water EC measured (mS/m)\n",
    "fixedConds[0] = True # river EC fixed\n",
    "k.setInit(depths0=depths, conds0=conds0, fixedConds=fixedConds)\n",
    "k.invert(forwardModel='FSlin', alpha=0.7, beta=0, njobs=-1) # beta > 0 will cause lateral smoothing\n",
    "# In the paper, the corresponding Figure is produced using a lateral smoothing factor as in the line below\n",
    "#k.invert(forwardModel='FSlin', alpha=0.7, beta=0.7) # beta > 0 will cause lateral smoothing"
   ],
   "outputs": []
  },
  {
   "cell_type": "code",
   "execution_count": 3,
   "metadata": {},
   "source": [
    "# figure\n",
    "fig, axs = plt.subplots(3, 1, figsize=(12,5), sharex=True)\n",
    "ax0 = axs[0]\n",
    "ax1 = axs[1]\n",
    "ax2 = axs[2]\n",
    "\n",
    "k.show(ax=ax0, dist=True)\n",
    "ax0.set_title('(a) ECa measured')\n",
    "ax0.set_xlabel('')\n",
    "ax0.get_legend().remove()\n",
    "ax0.legend(k.coils, bbox_to_anchor=(1,1.2))\n",
    "\n",
    "current_cmap = mpl.cm.get_cmap() # set NaN as white\n",
    "current_cmap.set_bad(color='white')\n",
    "k.models[0][:,0] = np.nan # blank river as it's fixed EC\n",
    "k.showResults(ax=ax1, contour=True, dist=True, cmap='jet_r')\n",
    "ax1.set_title('(b) Fixed depths')\n",
    "ax1.set_xlabel('')\n",
    "ax1.set_ylim([-1.75, 0])\n",
    "\n",
    "ax2.set_title('(c) Heads above sea level')\n",
    "df = k.surveys[0].df\n",
    "\n",
    "xy = df[['x','y']].values\n",
    "distance = np.sqrt(np.sum(np.diff(xy, axis=0)**2, axis=1))\n",
    "distance = np.r_[[0], distance, distance[[-1]]]\n",
    "x = np.cumsum(distance)\n",
    "xx = np.ones((df.shape[0], 4))*x[:-1,None]\n",
    "yy = np.ones((df.shape[0], 4))*df['depth'].values[:,None]\n",
    "yy = yy + np.array([[0, 0.2, 0.5, 1]])\n",
    "\n",
    "heads = df[['Stage(m)', 'H20cm(m)', 'H50cm(m)', 'H100cm(m)']].values\n",
    "cax = ax2.contourf(xx, -yy, heads, cmap='jet_r', levels=15)\n",
    "ax2.set_xlabel('Distance [m]')\n",
    "ax2.set_ylabel('Elevation [m]')\n",
    "ax2.set_ylim([-1.75, 0])\n",
    "fig.colorbar(cax, ax=ax2, label='Head [masl]') # meter above sea level\n",
    "\n",
    "# adjust the x axis of subplot 1 to match the others\n",
    "pos1 = ax1.get_position()\n",
    "pos2 = ax0.get_position()\n",
    "ax0.set_position([pos1.x0,pos2.y0,pos1.width,pos2.height])"
   ],
   "outputs": []
  },
  {
   "cell_type": "code",
   "execution_count": 4,
   "metadata": {},
   "source": [
    "# figure of spatial data\n",
    "fig, axs = plt.subplots(1, 2, sharex=True, sharey=True, figsize=(11,3))\n",
    "ax = axs[0]\n",
    "k.showSlice(islice=-2, ax=ax, vmin=5, vmax=25)\n",
    "ax.set_title('(a) Inverted EC of river bed')\n",
    "ax.set_xlabel('Easting [m]')\n",
    "ax.set_ylabel('Northing [m]')\n",
    "ax.set_aspect('equal')\n",
    "ax = axs[1]\n",
    "ax.set_title('(b) Hydraulic heads at 1 m below river bed')\n",
    "df = k.surveys[0].df\n",
    "cax = ax.scatter(df['x'], df['y'], s=35, c=df['H100cm(m)'], cmap='plasma')\n",
    "ax.set_xlabel('Easting [m]')\n",
    "ax.set_aspect('equal')\n",
    "fig.colorbar(cax, ax=ax, label='Hydraulic Head [masl]') # masl = meter above sea level\n",
    "fig.tight_layout()"
   ],
   "outputs": []
  },
  {
   "cell_type": "code",
   "execution_count": null,
   "metadata": {},
   "source": [],
   "outputs": []
  }
 ],
 "metadata": {
  "kernelspec": {
   "display_name": "Python 3 (ipykernel)",
   "language": "python",
   "name": "python3"
  },
  "language_info": {
   "codemirror_mode": {
    "name": "ipython",
    "version": 3
   },
   "file_extension": ".py",
   "mimetype": "text/x-python",
   "name": "python",
   "nbconvert_exporter": "python",
   "pygments_lexer": "ipython3",
   "version": "3.10.12"
  }
 },
 "nbformat": 4,
 "nbformat_minor": 4
}
