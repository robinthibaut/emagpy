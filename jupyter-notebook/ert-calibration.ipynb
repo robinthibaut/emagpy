{
 "cells": [
  {
   "cell_type": "markdown",
   "metadata": {},
   "source": [
    "# ERT calibration and GF calibration\n",
    "This notebook explores how ECa values acquired at 1 m using the F-1m calibration can be corrected using ERT calibration."
   ]
  },
  {
   "cell_type": "code",
   "execution_count": 1,
   "metadata": {},
   "source": [
    "import numpy as np\n",
    "import matplotlib.pyplot as plt\n",
    "import sys\n",
    "sys.path.append('../src')\n",
    "sys.path.append('../../pyr2/src')\n",
    "from resipy import R2\n",
    "from resipy.meshTools import vtk_import\n",
    "from emagpy import Problem\n",
    "\n",
    "datadir = '../src/examples/boxford-calib/'"
   ],
   "outputs": []
  },
  {
   "cell_type": "code",
   "execution_count": 12,
   "metadata": {},
   "source": [
    "# inverting one line\n",
    "k1er = R2(datadir + 'wd')\n",
    "k1er.createSurvey(datadir + 'wd/protocol.dat', ftype='ProtocolDC')\n",
    "k1er.importElec(datadir + 'wd/elec.csv')\n",
    "k1er.createMesh('trian', cl=0.5, fmd=5)\n",
    "k1er.invert()\n",
    "k1er.getResults()\n",
    "fig, ax = plt.subplots(figsize=(10,2))\n",
    "k1er.showResults(ax=ax)"
   ],
   "outputs": []
  },
  {
   "cell_type": "code",
   "execution_count": 17,
   "metadata": {},
   "source": [
    "%load_ext autoreload\n",
    "%autoreload 2"
   ],
   "outputs": []
  },
  {
   "cell_type": "code",
   "execution_count": 2,
   "metadata": {},
   "source": [
    "# no correction\n",
    "k1 = Problem()\n",
    "k1.createSurvey(datadir + 'eca_raw.csv')\n",
    "\n",
    "# with GF correction\n",
    "k2 = Problem()\n",
    "k2.createSurvey(datadir + 'eca_raw.csv')\n",
    "k2.gfCorrection(calib='F-1m')\n",
    "\n",
    "# like if it was collected at 0 m\n",
    "k3 = Problem()\n",
    "k3.createSurvey(datadir + 'eca_raw.csv')\n",
    "k3.hx = np.zeros(6) # make it like data were collected at 0 m\n",
    "\n",
    "# ERT calibrated but no GF corrected\n",
    "k4 = Problem()\n",
    "k4.createSurvey(datadir + 'eca_raw.csv')\n",
    "k4.calibrate(datadir + 'eca_raw.csv',\n",
    "             fnameEC=datadir + 'eri_ec.csv',\n",
    "#              fnameResMod=datadir + 'wd/invdir/f001_res.dat',\n",
    "             forwardModel='FSlin', apply=True)\n",
    "\n",
    "# ERT calibrated and GF corrected\n",
    "k5 = Problem()\n",
    "k5.createSurvey(datadir + 'eca_raw.csv')\n",
    "k5.gfCorrection(calib='F-1m')\n",
    "k5.calibrate(datadir + 'eca_raw.csv',\n",
    "             fnameEC=datadir + 'eri_ec.csv',\n",
    "#              fnameResMod=datadir + 'wd/invdir/f001_res.dat',\n",
    "             forwardModel='FSlin', calib='F-1m', apply=True)\n",
    "\n",
    "ks = [k1, k2, k3, k4, k5]\n",
    "for k in ks:\n",
    "    k.setInit(depths0=np.linspace(0.01, 5, 10))\n",
    "    k.invert(forwardModel='FSlin', method='Gauss-Newton')"
   ],
   "outputs": []
  },
  {
   "cell_type": "code",
   "execution_count": 14,
   "metadata": {},
   "source": [
    "emSens(np.linspace(0,3),s=1.48,coilPosition='vcp')"
   ],
   "outputs": []
  },
  {
   "cell_type": "code",
   "execution_count": 13,
   "metadata": {},
   "source": [],
   "outputs": []
  },
  {
   "cell_type": "code",
   "execution_count": 5,
   "metadata": {},
   "source": [
    "def emSens(depths,s,coilPosition, hx=0, rescaled=False):\n",
    "    \"\"\"return mcNeil senstivity values\n",
    "    \n",
    "    depths (positive and increasing with depth)\n",
    "    s = distance between coils\n",
    "    coilPosition is \"hcp\" for horizontal coplanar (HCP) and \"vcp\" for VCP\n",
    "    x = range on which compute the sensitivity (array_like)\n",
    "     \"\"\"\n",
    "    depths = depths + np.abs(hx)\n",
    "    z=np.array(depths)/s\n",
    "    # from mcNeil 1980 in Callegary2007\n",
    "    if coilPosition == 'hcp':\n",
    "        cs = 1/np.sqrt(4*z**2+1)\n",
    "    if coilPosition == 'vcp':\n",
    "        cs = np.sqrt(4*z**2+1)-2*z\n",
    "    if coilPosition == 'prp':\n",
    "        cs = 1-2*z/np.sqrt(4*z**2 + 1)\n",
    "    \n",
    "    if (hx != 0) and rescaled is True: # rescale the cumulative sensitivity so that it reaches 1\n",
    "        cs = cs/cs[0]\n",
    "\n",
    "    return cs # all but the first one as it is just use to scale everything"
   ],
   "outputs": []
  },
  {
   "cell_type": "code",
   "execution_count": 47,
   "metadata": {},
   "source": [
    "# figure\n",
    "fig, axs = plt.subplots(len(ks), 2, figsize=(10,11))\n",
    "letters = ['a','b','c','d','e','f','g','h','i','j']\n",
    "labs = ['no correction', 'GF correction', 'like if at 0 m', 'ERT calibrated', 'ERT calib + GF corr']\n",
    "for i, k in enumerate(ks):\n",
    "    k.show(ax=axs[i,0], vmin=0, vmax=50)\n",
    "    axs[i,0].get_legend().remove()\n",
    "    axs[i,0].set_title('({:s}) Apparent ({:s})'.format(letters[i*2], labs[i]))\n",
    "    k.showResults(ax=axs[i,1], vmin=0, vmax=50)\n",
    "    axs[i,1].set_title('({:s}) Inverted ({:s})'.format(letters[i*2+1], labs[i]))"
   ],
   "outputs": []
  },
  {
   "cell_type": "code",
   "execution_count": 48,
   "metadata": {},
   "source": [
    "# comparing with ERT\n",
    "vmin, vmax = 0, 50\n",
    "fig, axs = plt.subplots(6, 1, figsize=(8,8), sharex=True, sharey=False)\n",
    "ax = axs[0]\n",
    "k1.showResults(ax=ax, vmin=vmin, vmax=vmax)\n",
    "ax.set_title('(a) EMI no correction')\n",
    "ax.set_xlabel('')\n",
    "ax = axs[1]\n",
    "k2.showResults(ax=ax, vmin=vmin, vmax=vmax)\n",
    "ax.set_title('(b) EMI with GF correction')\n",
    "ax.set_xlabel('')\n",
    "ax = axs[2]\n",
    "k3.showResults(ax=ax, vmin=vmin, vmax=vmax)\n",
    "ax.set_title('(c) EMI like at 0 m')\n",
    "ax.set_xlabel('')\n",
    "ax = axs[3]\n",
    "k4.showResults(ax=ax, vmin=vmin, vmax=vmax)\n",
    "ax.set_title('(d) EMI with ERT calib')\n",
    "ax.set_xlabel('')\n",
    "ax = axs[4]\n",
    "k5.showResults(ax=ax, vmin=vmin, vmax=vmax)\n",
    "ax.set_title('(e) EMI with ERT calib + GF correction')\n",
    "ax.set_xlabel('')\n",
    "ax = axs[5]\n",
    "k1er.showResults(ax=ax, attr='Conductivity(mS/m)', vmin=vmin, vmax=vmax,\n",
    "                 sens=False, color_map='viridis_r')\n",
    "ax.set_title('(f) ERT transect')\n",
    "\n",
    "# adjust the x axis of subplot 1 to match the others\n",
    "pos = axs[-1].get_position()\n",
    "cbar0 = fig.axes[-1].get_position()\n",
    "for i, ax in enumerate(axs[:-1]):\n",
    "    pos0 = ax.get_position()\n",
    "    ax.set_position([pos0.x0, pos0.y0, pos.width, pos.height])\n",
    "    cbar = fig.axes[len(axs) + i]\n",
    "    pos1 = cbar.get_position()\n",
    "    cbar.set_position([cbar0.x0, pos1.y0, pos1.width, pos1.height])\n",
    "\n",
    "for ax in axs:\n",
    "    ax.set_aspect('auto')"
   ],
   "outputs": []
  },
  {
   "cell_type": "code",
   "execution_count": 49,
   "metadata": {},
   "source": [
    "for k in ks:\n",
    "    k.showOne2one()"
   ],
   "outputs": []
  },
  {
   "cell_type": "markdown",
   "metadata": {},
   "source": [
    "## Conclusions\n",
    "- Applying the ERT calibration alone is sufficient to account for GF calibration as well\n",
    "- Applying the GF correction and then the ERT calibration leads to the same results as just applying the ERT calibration alone\n",
    "- Hence, if ERT data are available, we recommend to just apply the ERT correction alone and not the GF calibration."
   ]
  },
  {
   "cell_type": "code",
   "execution_count": null,
   "metadata": {},
   "source": [],
   "outputs": []
  }
 ],
 "metadata": {
  "kernelspec": {
   "display_name": "Python 3",
   "language": "python",
   "name": "python3"
  },
  "language_info": {
   "codemirror_mode": {
    "name": "ipython",
    "version": 3
   },
   "file_extension": ".py",
   "mimetype": "text/x-python",
   "name": "python",
   "nbconvert_exporter": "python",
   "pygments_lexer": "ipython3",
   "version": "3.6.9"
  }
 },
 "nbformat": 4,
 "nbformat_minor": 4
}
