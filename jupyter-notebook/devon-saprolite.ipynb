{
 "cells": [
  {
   "cell_type": "markdown",
   "metadata": {},
   "source": [
    "# Sharp and smooth inversions of Devon’s data on saprolite\n",
    "This notebook compare a smooth and a sharp inversion for estimating the interface between the top soil and the saprolite (regolith) beneath. The dataset was collected at North Wyke Research station (Rothamsted Research) in Devon (UK). True depth of to the saprolite were obtained by coring."
   ]
  },
  {
   "cell_type": "code",
   "execution_count": 1,
   "metadata": {},
   "source": [
    "import numpy as np\n",
    "import matplotlib.pyplot as plt\n",
    "import pandas as pd\n",
    "import sys\n",
    "sys.path.append('../src') # add path where emagpy is\n",
    "from emagpy import Problem\n",
    "\n",
    "datadir = 'examples/'"
   ],
   "outputs": []
  },
  {
   "cell_type": "code",
   "execution_count": 11,
   "metadata": {},
   "source": [
    "k1 = Problem()\n",
    "k1.createSurvey(datadir + 'saprolite/mexpl.csv')\n",
    "k1.setInit(depths0=np.linspace(0.05, 2, 10))\n",
    "k1.invert(forwardModel='CSgn')\n",
    "\n",
    "k2 = Problem()\n",
    "k2.createSurvey(datadir + 'saprolite/mexpl.csv')\n",
    "k2.setInit(depths0=np.array([0.5]), fixedDepths=[False], conds0=[15, 7])\n",
    "k2.invert(method='ROPE', forwardModel='CS', bnds=[(0.2, 0.7), (10,25), (0,15)], njobs=-1)"
   ],
   "outputs": []
  },
  {
   "cell_type": "code",
   "execution_count": 12,
   "metadata": {},
   "source": [
    "fig, ax = plt.subplots()\n",
    "k1.showMap(contour=True, pts=True, ax=ax)\n",
    "ax.xaxis.set_major_locator(plt.MaxNLocator(5))"
   ],
   "outputs": []
  },
  {
   "cell_type": "code",
   "execution_count": 13,
   "metadata": {},
   "source": [
    "# figure\n",
    "fig, axs = plt.subplots(2, 1, figsize=(8,4), sharex=True, sharey=True)\n",
    "ax = axs[0]\n",
    "k1.showResults(ax=ax, vmin=0, vmax=20, maxDepth=3)\n",
    "rmse = k1.getRMSE()['all'].values[0]\n",
    "ax.set_title('(a) Smoothed (RMSE:{:.2f})'.format(rmse))\n",
    "ax.plot(-k1.surveys[0].df['saproliteDepth'], 'rx-')\n",
    "ax = axs[1]\n",
    "k2.showResults(ax=ax, vmin=0, vmax=20, maxDepth=3)\n",
    "rmse = k2.getRMSE()['all'].values[0]\n",
    "trueDepths = k2.surveys[0].df['saproliteDepth'].values\n",
    "rmseDepths = np.sqrt(np.sum((k2.depths[0][:,0] - trueDepths)**2)/len(trueDepths))\n",
    "ax.set_title('(b) Sharp (RMSE:{:.2f}, RMSE$_{{depths}}$={:.2f})'.format(rmse, rmseDepths))\n",
    "ax.plot(-k1.surveys[0].df['saproliteDepth'], 'rx-')"
   ],
   "outputs": []
  },
  {
   "cell_type": "code",
   "execution_count": null,
   "metadata": {},
   "source": [],
   "outputs": []
  }
 ],
 "metadata": {
  "kernelspec": {
   "display_name": "Python 3",
   "language": "python",
   "name": "python3"
  },
  "language_info": {
   "codemirror_mode": {
    "name": "ipython",
    "version": 3
   },
   "file_extension": ".py",
   "mimetype": "text/x-python",
   "name": "python",
   "nbconvert_exporter": "python",
   "pygments_lexer": "ipython3",
   "version": "3.7.3"
  }
 },
 "nbformat": 4,
 "nbformat_minor": 4
}
