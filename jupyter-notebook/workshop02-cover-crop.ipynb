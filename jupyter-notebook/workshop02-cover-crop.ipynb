{
 "cells": [
  {
   "cell_type": "markdown",
   "metadata": {},
   "source": [
    "# Field data processing and inversion\n",
    "In this notebook will be feature the different processing and filtering function of the EMagPy Python API.\n",
    "> To get help on any method run `help(k.forward)` for instance"
   ]
  },
  {
   "cell_type": "code",
   "execution_count": 3,
   "metadata": {},
   "source": [
    "# adding the source path of emagpy to the PATH (only needed when run from source)\n",
    "import sys\n",
    "sys.path.append('../src/')\n",
    "\n",
    "# import modules\n",
    "from emagpy import Problem"
   ],
   "outputs": []
  },
  {
   "cell_type": "markdown",
   "metadata": {},
   "source": [
    "## Cover Crop Dataset\n",
    "The data were collected using a CMD Mini-Explorer on plots sown with different cover crops in 2018 at Nottingham Sutton Bonington Campus (UK). The field in which the experiment took place had a slope and the first plot was situated at the bottom of the slope where higher clay content (higher EC) has been observed. Subsequent measurement where taken going up the slope to more sandy areas (lower EC)."
   ]
  },
  {
   "cell_type": "markdown",
   "metadata": {},
   "source": [
    "## Importing data\n",
    "\n",
    "First we can to specify the directory of the data, then the data can be imported using `createSurvey()` and displayed using `show()`."
   ]
  },
  {
   "cell_type": "code",
   "execution_count": 2,
   "metadata": {},
   "source": [
    "datadir = '../src/examples/cover-crop/'\n",
    "\n",
    "k = Problem()\n",
    "k.createSurvey(datadir + 'coverCropTransect.csv')\n",
    "k.show(coil='all')"
   ],
   "outputs": []
  },
  {
   "cell_type": "markdown",
   "metadata": {},
   "source": [
    "\n",
    "\n",
    "\n"
   ]
  },
  {
   "cell_type": "markdown",
   "metadata": {},
   "source": [
    "## Data filtering\n",
    "\n",
    "It is evident that there are some outliers within the data. We can remove such data by applying a maximum/minimum filter:\n",
    "\n",
    "`k.filterRange(0, 40)` #where minimum and maximum ECa values need to be specified.\n",
    "\n",
    "Following from this we can also do a running average of the data:\n",
    "\n",
    "`k.rollingMean(n)` # running average over every n measurements\n",
    "\n",
    "Filter the Cover Crop dataset and plot the results to see what has happened.\n",
    "\n",
    "The data of individual coils can be plotted by specifying the coil name in `k.show()`: `k.show(coil='VCP0.32)`"
   ]
  },
  {
   "cell_type": "code",
   "execution_count": 3,
   "metadata": {},
   "source": [
    "k.filterRange(0, 40) # supply min and max bounds for ECa values for filtering\n",
    "k.rollingMean(3) # running average over every 3 measurements\n",
    "k.show(coil='all') # show data, specify coil to plot and y limits"
   ],
   "outputs": []
  },
  {
   "cell_type": "markdown",
   "metadata": {},
   "source": [
    "## Inversion\n",
    "\n",
    "As a first attempt we will perform a smooth inversion to look at the general distribution of EC with depths.\n",
    "\n",
    "For this we must specify an array of depths to be fixed in the initial model:\n",
    "\n",
    "`k.setInit(depths0=np.array([0.25, 0.5, 0.75, 1, 1.5, 2]))` # depth bottom of layer in meters\n",
    "\n",
    "We also need to introduce smoothing into the model using an alpha value:\n",
    "\n",
    "`k.invert(method='L-BFGS-B', alpha=0.07, regularization='l1')`"
   ]
  },
  {
   "cell_type": "code",
   "execution_count": 4,
   "metadata": {},
   "source": [
    "k.setInit(depths0=[0.25, 0.5, 0.75, 1, 1.5, 2],\n",
    "          fixedDepths=[True, True, True, True, True, True],\n",
    "          conds0=[20, 20, 20, 20, 20, 20, 20],\n",
    "          fixedConds=[False, False, False, False, False, False, False])\n",
    "\n",
    "k.invert(method='L-BFGS-B',forwardModel='CS', alpha=0.07, regularization='l1', njobs=-1)"
   ],
   "outputs": []
  },
  {
   "cell_type": "markdown",
   "metadata": {},
   "source": [
    "The inverted model can be displayed using `k.showResults()` and the quality of the inversion can be assessed using `k.showMisfit()` and `k.showOne2one()`."
   ]
  },
  {
   "cell_type": "code",
   "execution_count": 5,
   "metadata": {},
   "source": [
    "k.showResults() # inverted EC model\n",
    "k.showOne2one() # modelled ECa vs observed ECa\n",
    "k.showMisfit() # modelled ECa and observed ECa plotted on same axis"
   ],
   "outputs": []
  },
  {
   "cell_type": "markdown",
   "metadata": {},
   "source": [
    "## Challenge 1: landslide\n",
    "Import the Hollin Hill dataset (`../src/examples/hollin-hill/dfm-expl.csv`) and filter the data. The potatoes dataset contains spatial data that can be used to display a map of ECa for each coil. Try it by running: `k.showMap()` to display the ECa values for each coil.\n",
    "\n",
    "In addition the colour scale can be specified using `cmap=` (e.g. `'viridis`, `'viridis_r'`, `'jet'`)\n",
    "\n",
    "Using the help from `help(k.showMap)`, try to plot a contour map of the ECa.\n",
    "\n",
    "Then invert the data using the same smooth model as previously but use `CSgn` as `forwardModel`. This will make use of the fast Gauss-Newton implementation. No method needs to be specified.\n",
    "\n",
    "You can display the the inverted EC per depth using the `k.showSlice()` function. Compare it the map of ECa previously plotted."
   ]
  },
  {
   "cell_type": "code",
   "execution_count": 23,
   "metadata": {},
   "source": [
    "# ANSWER\n",
    "k = Problem()\n",
    "k.createSurvey('../src/examples/hollin-hill/dfm-expl.csv')\n",
    "k.show(coil='all')\n",
    "k.rollingMean(5)\n",
    "k.showMap(coil=k.coils[1], contour=True, cmap='jet_r')\n",
    "k.invert(forwardModel='CSgn', alpha=0.07, regularization='l1')\n",
    "k.setInit(depths0=[0.5, 1, 1.5, 2, 3, 4],\n",
    "          fixedDepths=[True, True, True, True, True, True],\n",
    "          conds0=[20, 20, 20, 20, 20, 20, 20],\n",
    "          fixedConds=[False, False, False, False, False, False, False])\n",
    "k.showSlice(islice=2)\n",
    "k.showOne2one()\n",
    "#k.showMisfit()"
   ],
   "outputs": []
  },
  {
   "cell_type": "markdown",
   "metadata": {},
   "source": [
    "## Challenge 2: sharp inversion\n",
    "Import the cover crop dataset again and perform the needed filtering. Then invert it on a two layers model using the `ROPE` solver and allowing a variable depth of the first layer."
   ]
  },
  {
   "cell_type": "code",
   "execution_count": 27,
   "metadata": {},
   "source": [
    "# ANSWER\n",
    "datadir = '../src/examples/cover-crop/'\n",
    "\n",
    "k = Problem()\n",
    "k.createSurvey(datadir + 'coverCropTransect.csv')\n",
    "k.show(coil='all')\n",
    "\n",
    "k.setInit(depths0=[1.5], fixedDepths=[False], # setting initial model and specify which are fixed\n",
    "          conds0=[5, 20], fixedConds=[False, False])\n",
    "k.invert(method='ROPE',forwardModel='CS', rep=3000, alpha=0, regularization='l1', njobs=-1, \n",
    "         bnds=[(0.01, 3), (0, 80), (0, 80)]) # inversion\n",
    "k.showResults(errorbar=True) # show inverted model"
   ],
   "outputs": []
  },
  {
   "cell_type": "code",
   "execution_count": null,
   "metadata": {},
   "source": [],
   "outputs": []
  }
 ],
 "metadata": {
  "kernelspec": {
   "display_name": "Python 3",
   "language": "python",
   "name": "python3"
  },
  "language_info": {
   "codemirror_mode": {
    "name": "ipython",
    "version": 3
   },
   "file_extension": ".py",
   "mimetype": "text/x-python",
   "name": "python",
   "nbconvert_exporter": "python",
   "pygments_lexer": "ipython3",
   "version": "3.6.9"
  }
 },
 "nbformat": 4,
 "nbformat_minor": 4
}
