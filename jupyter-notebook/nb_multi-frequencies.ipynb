{
 "cells": [
  {
   "cell_type": "markdown",
   "metadata": {},
   "source": [
    "# Multi-frequency inversion with EMagPy\n",
    "\n",
    "This notebook compared a mutli-coil instruments (CMD Explorer) and a multi-frequency instrument (GEM-2) synthetically."
   ]
  },
  {
   "cell_type": "code",
   "execution_count": 1,
   "metadata": {},
   "source": [
    "import numpy as np\n",
    "import matplotlib.pyplot as plt\n",
    "import sys\n",
    "sys.path.append('../src')\n",
    "from emagpy import Problem"
   ],
   "outputs": []
  },
  {
   "cell_type": "code",
   "execution_count": 2,
   "metadata": {},
   "source": [
    "# parameters for the synthetic model\n",
    "nlayer = 2 # number of layers\n",
    "npos = 20 # number of positions/sampling locations\n",
    "conds = np.ones((npos, nlayer))*[10, 50] # EC in mS/m\n",
    "x = np.linspace(0.1, 2, npos)[:,None]\n",
    "depths = 0 + 2/(1+np.exp(-4*(x-1))) # depth of model\n",
    "\n",
    "# defines coils configuration, frequency and height above the ground\n",
    "coilsA = ['VCP1.48f10000h0', 'VCP2.82f10000h0', 'VCP4.49f10000h0',\n",
    "        'HCP1.48f10000h0', 'HCP2.82f10000h0', 'HCP4.49f10000h0']\n",
    "coilsB = ['VCP2.82f300h0', 'VCP2.82f600h0', 'VCP2.82f900h0',\n",
    "        'VCP2.82f12000h0', 'VCP2.82f2000h0', 'VCP2.82f24000h0']\n",
    "coilsList = [coilsA, coilsB]\n",
    "\n",
    "# foward modelling\n",
    "ks = []\n",
    "for i, coils in enumerate(coilsList):\n",
    "    k = Problem()\n",
    "    k.setModels([depths], [conds])\n",
    "    _ = k.forward(forwardModel='FSlin', coils=coils, noise=0.0)\n",
    "    ks.append(k)\n",
    "k.showResults() # display original model\n",
    "k.show() # display ECa computed from forward modelling\n",
    "\n",
    "for k, fm in zip(ks, ['FSlin']*len(coilsList)):\n",
    "    k.setInit(depths0=[0.5], fixedDepths=[False],\n",
    "              conds0=[20, 20], fixedConds=[False, False]) # set initial values\n",
    "    # invert using ROPE solver (RObust Parameter Estimation)\n",
    "    k.invert(forwardModel=fm, method='ROPE', regularization='l1', alpha=0,\n",
    "             bnds=[(0.01, 3), (0, 80), (0, 80)], rep=1000, njobs=-1)"
   ],
   "outputs": []
  },
  {
   "cell_type": "code",
   "execution_count": 3,
   "metadata": {},
   "source": [
    "# figure\n",
    "titles = ['(a) Explorer', '(b) GEM-2', '(c)', '(d)']\n",
    "fig, axs = plt.subplots(1, 2, figsize=(10, 3), sharex=True, sharey=True)\n",
    "axs = axs.flatten()\n",
    "for i, k in enumerate(ks):\n",
    "    ax = axs[i]\n",
    "    k.showResults(ax=ax, vmin=0, vmax=60, maxDepth=5, errorbar=True, dist=False)\n",
    "    ax.step(-np.vstack([depths, depths[-1,:]]), 'r-', where='post')\n",
    "    if i % 2 == 0:\n",
    "        fig.axes[-1].remove() # remove colorbar\n",
    "    else:\n",
    "        ax.set_ylabel('')\n",
    "    if i < 2:\n",
    "        ax.set_xlabel('')\n",
    "    ax.set_title(titles[i])\n",
    "ax.set_xticks(np.arange(0, 21, 5))\n",
    "fig.tight_layout()"
   ],
   "outputs": []
  }
 ],
 "metadata": {
  "kernelspec": {
   "display_name": "Python 3 (ipykernel)",
   "language": "python",
   "name": "python3"
  },
  "language_info": {
   "codemirror_mode": {
    "name": "ipython",
    "version": 3
   },
   "file_extension": ".py",
   "mimetype": "text/x-python",
   "name": "python",
   "nbconvert_exporter": "python",
   "pygments_lexer": "ipython3",
   "version": "3.10.12"
  }
 },
 "nbformat": 4,
 "nbformat_minor": 4
}
