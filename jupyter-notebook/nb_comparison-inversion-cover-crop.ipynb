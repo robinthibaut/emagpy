{
 "cells": [
  {
   "cell_type": "markdown",
   "metadata": {},
   "source": [
    "Comparison of inversion algorithm using the Cover Crop dataset\n",
    "===\n"
   ]
  },
  {
   "cell_type": "code",
   "execution_count": 1,
   "metadata": {},
   "source": [
    "import sys\n",
    "sys.path.append('../src/')\n",
    "import numpy as np\n",
    "import matplotlib.pyplot as plt\n",
    "from emagpy import Problem\n",
    "datadir = '../src/examples/cover-crop/'\n",
    "\n",
    "k = Problem()\n",
    "k.createSurvey(datadir + 'coverCrop.csv', freq=30000)\n",
    "k.surveys[0].df = k.surveys[0].df[:10]\n",
    "k.show()\n",
    "k.lcurve()\n",
    "alpha = 0.13 # based on observation of the L-curve\n",
    "k.setInit(depths0=np.array([0.3, 0.6, 1.2])) # depth bottom of layer in meters"
   ],
   "outputs": []
  },
  {
   "cell_type": "code",
   "execution_count": 2,
   "metadata": {},
   "source": [
    "k.invert(method='CG', alpha=alpha, regularization='l1')\n",
    "k.showOne2one(ax=None)"
   ],
   "outputs": []
  },
  {
   "cell_type": "code",
   "execution_count": 3,
   "metadata": {},
   "source": [
    "k.invert(alpha=alpha)\n",
    "fig, axs = plt.subplots(1, 3, figsize=(12,3))\n",
    "k.showOne2one(ax=axs[0])\n",
    "k.showMisfit(ax=axs[1])\n",
    "k.showResults(ax=axs[2], vmin=25, vmax=45)"
   ],
   "outputs": []
  },
  {
   "cell_type": "code",
   "execution_count": 4,
   "metadata": {},
   "source": [
    "k.invert(forwardModel='Q', alpha=alpha) # as it's in quadrature the value of alpha doesn't have the same unit\n",
    "fig, axs = plt.subplots(1, 3, figsize=(12,3))\n",
    "k.showOne2one(ax=axs[0])\n",
    "k.showMisfit(ax=axs[1])\n",
    "k.showResults(ax=axs[2], vmin=25, vmax=45)"
   ],
   "outputs": []
  },
  {
   "cell_type": "markdown",
   "metadata": {
    "collapsed": "false",
    "jupyter": {
     "outputs_hidden": "false"
    }
   },
   "source": [
    "Observations\n",
    "---\n",
    "- all results are roughly equivalent between the methods\n",
    "- concerning the RMSE, the best are given by `invertGN()` or `invert(forwardModel!=Q)`\n",
    "- `invert(forwardModel='Q')` based on minimize the misfit in quadrature is quite good as well.\n",
    "\n",
    "**Note**:\n",
    "One main difference between `invertGN()` and `invert(method=CG)` is how the objective function is formulated. for `invertGN()` a traditional Gauss-Newton approach is followed where the misfit of all coils is reduced *at the same time*. While for the other method `CG` the objective function is setup to reduce the general misfit of all the coils together. This might be while there is discrepancy between the two.\n",
    "\n",
    "Sensitivity to $\\alpha$ (smoothing) parameter\n",
    "---\n"
   ]
  },
  {
   "cell_type": "code",
   "execution_count": 5,
   "metadata": {},
   "source": [
    "alphas = np.logspace(-4, 3, 50)\n",
    "def dump(x):\n",
    "    pass"
   ],
   "outputs": []
  },
  {
   "cell_type": "code",
   "execution_count": 8,
   "metadata": {},
   "source": [
    "rmses = []\n",
    "models = []\n",
    "for alpha in alphas:\n",
    "    k.invert(alpha=alpha, method='Nelder-Mead', dump=dump)\n",
    "    rmses.append(k.getRMSE().values)\n",
    "    models.append(k.models[0])\n",
    "rmses = np.vstack(rmses)\n",
    "models = np.dstack(models)\n",
    "\n",
    "fig, axs = plt.subplots(1, 2, figsize=(12,6))\n",
    "ax = axs[0]\n",
    "ax.plot(alphas, rmses, '.-')\n",
    "ax.axvline(0.07, color='k')\n",
    "ax.legend(np.r_[k.coils, ['all']])\n",
    "ax.set_ylabel('RMSE')\n",
    "ax.set_xlabel(r'Damping Factor ($\\alpha$)')\n",
    "ax.set_xscale('log')\n",
    "ax = axs[1]\n",
    "ax.plot(models[2,:-1,::6], -k.depths0[0][:-1, :].T, '.-')\n",
    "ax.legend(['{:.2e}'.format(a) for a in alphas][::6])\n",
    "ax.set_xlabel('EC [mS/m]')\n",
    "ax.set_ylabel('Depth [m]')"
   ],
   "outputs": []
  },
  {
   "cell_type": "code",
   "execution_count": 9,
   "metadata": {},
   "source": [
    "rmses = []\n",
    "models = []\n",
    "for alpha in alphas:\n",
    "    k.invertGN(alpha=alpha, dump=dump)\n",
    "    rmses.append(k.getRMSE().values)\n",
    "    models.append(k.models[0])\n",
    "rmses = np.vstack(rmses)\n",
    "models = np.dstack(models)\n",
    "\n",
    "fig, axs = plt.subplots(1, 2, figsize=(12,6))\n",
    "ax = axs[0]\n",
    "ax.plot(alphas, rmses, '.-')\n",
    "ax.axvline(0.07, color='k')\n",
    "ax.legend(np.r_[k.coils, ['all']])\n",
    "ax.set_ylabel('RMSE')\n",
    "ax.set_xlabel(r'Damping Factor ($\\alpha$)')\n",
    "ax.set_xscale('log')\n",
    "ax = axs[1]\n",
    "ax.plot(models[2,:-1,::6], -k.depths0[0][:-1, :].T, '.-')\n",
    "ax.legend(['{:.2e}'.format(a) for a in alphas][::6])\n",
    "ax.set_xlabel('EC [mS/m]')\n",
    "ax.set_ylabel('Depth [m]')"
   ],
   "outputs": []
  },
  {
   "cell_type": "code",
   "execution_count": 10,
   "metadata": {},
   "source": [
    "rmses = []\n",
    "models = []\n",
    "for alpha in alphas:\n",
    "    k.invert(alpha=alpha, method='CG', dump=dump)\n",
    "    rmses.append(k.getRMSE().values)\n",
    "    models.append(k.models[0])\n",
    "rmses = np.vstack(rmses)\n",
    "models = np.dstack(models)\n",
    "\n",
    "fig, axs = plt.subplots(1, 2, figsize=(12,6))\n",
    "ax = axs[0]\n",
    "ax.plot(alphas, rmses, '.-')\n",
    "ax.axvline(0.07, color='k')\n",
    "ax.legend(np.r_[k.coils, ['all']])\n",
    "ax.set_ylabel('RMSE')\n",
    "ax.set_xlabel(r'Damping Factor ($\\alpha$)')\n",
    "ax.set_xscale('log')\n",
    "ax = axs[1]\n",
    "ax.plot(models[2,:-1,::6], -k.depths0[0][:-1, :].T, '.-')\n",
    "ax.legend(['{:.2e}'.format(a) for a in alphas][::6])\n",
    "ax.set_xlabel('EC [mS/m]')\n",
    "ax.set_ylabel('Depth [m]')"
   ],
   "outputs": []
  },
  {
   "cell_type": "markdown",
   "metadata": {
    "collapsed": "false",
    "jupyter": {
     "outputs_hidden": "false"
    }
   },
   "source": [
    "Observations\n",
    "---\n",
    "- all methods are very similar and behaves the same way for different value of damping factor $\\alpha$."
   ]
  },
  {
   "cell_type": "code",
   "execution_count": null,
   "metadata": {},
   "source": [],
   "outputs": []
  }
 ],
 "metadata": {
  "kernelspec": {
   "display_name": "Python 3 (ipykernel)",
   "language": "python",
   "name": "python3"
  },
  "language_info": {
   "codemirror_mode": {
    "name": "ipython",
    "version": 3
   },
   "file_extension": ".py",
   "mimetype": "text/x-python",
   "name": "python",
   "nbconvert_exporter": "python",
   "pygments_lexer": "ipython3",
   "version": "3.10.12"
  }
 },
 "nbformat": 4,
 "nbformat_minor": 4
}
