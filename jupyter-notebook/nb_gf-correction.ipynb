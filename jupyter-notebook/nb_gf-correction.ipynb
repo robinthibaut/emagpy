{
 "cells": [
  {
   "cell_type": "markdown",
   "metadata": {},
   "source": [
    "# GF Instruments correction\n",
    "2020-05-23\n",
    "\n",
    "GF Instruments use a custom linear calibration to convert the quadrature values measured by their instruments (e.g. CMD Explorer and CMD Mini-Explorer) into ECa. These calibrations can be supplied from the control unit as: 'F-Ground', 'F-0m' or 'F1-m'. It is essential to be aware of which calibration is being applied to the data as it has an important impact on the inversion of data collected with these instruments.\n",
    "> NOTE: this notebook reflects the best of our knowledge on the GF Instruments calibration procedure. Please consult with the manufacturer for further details."
   ]
  },
  {
   "cell_type": "code",
   "execution_count": 1,
   "metadata": {},
   "source": [
    "# import\n",
    "import sys\n",
    "sys.path.append('../src')\n",
    "from emagpy.invertHelper import fMaxwellQ, getQs\n",
    "from emagpy import Problem\n",
    "import numpy as np\n",
    "import matplotlib.pyplot as plt"
   ],
   "outputs": []
  },
  {
   "cell_type": "markdown",
   "metadata": {},
   "source": [
    "## What is the purpose of the calibration?\n",
    "The main advantage of these calibrations is that the ECa value obtained by the device is much closer to the ground EC than it would be if an ECa value obtained with the  LIN approximation is used (e.g. as is done by most other EMI manufacturers). The LIN equation ($ECa = \\frac{4}{\\omega \\mu_0 s^2}Q$) is a simple multiplication of the Quadrature ($Q$) value. When the device is at 1 m above the ground the quadrature value measured would be smaller (due to the air layer) than when on the ground. This means that for the LIN derived ECa for the case where the device is at 1 m a smaller ECa value would be obtained in comparison to the ECa from the 'F-1m'.\n",
    "\n",
    "## How the GF calibration works?\n",
    "These calibrations equations are based on measurements made at a site with an assumed homogeneous conductivity of 50 mS/m. The quadrature values measured over 50 mS/m ($Q_{50}$) are used to compute a slope to directly convert the quadrature to ECa.\n",
    "\n",
    "The calibration equation is\n",
    "$$Q = a \\times ECa$$\n",
    "\n",
    "with \n",
    "$$ a = \\frac{Q_{50}}{50}$$\n",
    "\n",
    "Once established, the calibration equation can be rearranged to be used to predict ECa as a function of measured quadrature:\n",
    "$$ ECa = \\frac{Q}{a}$$"
   ]
  },
  {
   "cell_type": "code",
   "execution_count": 2,
   "metadata": {},
   "source": [
    "# synthetic simulation of GF calibration for the CMD Explorer F-1m calibration\n",
    "cpos = ['vcp','vcp','vcp','hcp','hcp','hcp'] # coil orientation\n",
    "cspacing = [1.48, 2.82, 4.49, 1.48, 2.82, 4.49] # coil separation [m]\n",
    "hx = [1, 1, 1, 1, 1, 1] # height above the ground [m]\n",
    "freq = 10000 # Hz\n",
    "depths = np.array([5])\n",
    "Q50 = np.imag(getQs(np.ones(2)*50, depths, cspacing, cpos, freq, hx=hx))*1000 # [ppt]\n",
    "print(Q50)"
   ],
   "outputs": []
  },
  {
   "cell_type": "code",
   "execution_count": 3,
   "metadata": {},
   "source": [
    "slope = Q50/50\n",
    "print('inverted slopes:', 1/slope)\n",
    "\n",
    "fig, axs = plt.subplots(2, 3, sharex=True, figsize=(8,4))\n",
    "axs = axs.flatten()\n",
    "for i in range(len(cpos)):\n",
    "    ax = axs[i]\n",
    "    ax.set_title('{:s}{:.2f}'.format(cpos[i].upper(), cspacing[i]))\n",
    "    ax.plot(50, Q50[i], 'o')\n",
    "    ax.plot(np.arange(50), slope[i] * np.arange(50), '--')\n",
    "    if i > 2:\n",
    "        ax.set_xlabel('EC [mS/m]')\n",
    "    if i % 3 == 0:\n",
    "        ax.set_ylabel('Q [ppt]')\n",
    "fig.tight_layout()"
   ],
   "outputs": []
  },
  {
   "cell_type": "markdown",
   "metadata": {},
   "source": [
    "## Impact on the inversion\n",
    "The GF calibrations add a non physically-based transformation on the ECa that cannot be modelled easily. By neglecting the contribution of the air layer between the instrument and the ground, the GF calibration obtains larger ECa values (closer to the ground EC) but not representative of the signal received.\n",
    "\n",
    "One could argue that one way to avoid that is simply to invert ECa values  obtained with the 'F-1m' calibration such as if they were taken directly on the ground (i.e. h = 0 m). However, such an approach neglects the differences in the shapes of the sensitivity functions between a device at 0 m and at 1 m above the ground. The sensitivity patterns are **not the same** and this can impact the inversion."
   ]
  },
  {
   "cell_type": "code",
   "execution_count": 4,
   "metadata": {},
   "source": [
    "# no correction\n",
    "k1 = Problem()\n",
    "k1.createSurvey('../src/examples/hollin-hill/expl-transect.csv')\n",
    "\n",
    "# with GF correction\n",
    "k2 = Problem()\n",
    "k2.createSurvey('../src/examples/hollin-hill/expl-transect.csv')\n",
    "k2.gfCorrection(calib='F-1m')\n",
    "\n",
    "# like if it was collected at 0 m\n",
    "k3 = Problem()\n",
    "k3.createSurvey('../src/examples/hollin-hill/expl-transect.csv')\n",
    "k3.hx = np.zeros(6) # make it like data were collected at 0 m\n",
    "\n",
    "ks = [k1, k2, k3]\n",
    "for k in ks:\n",
    "    k.setInit(depths0=np.linspace(0.01, 5, 10))\n",
    "    k.invert(forwardModel='FSlin', method='Gauss-Newton')\n",
    "    \n",
    "# figure\n",
    "fig, axs = plt.subplots(len(ks), 2, figsize=(10,7))\n",
    "letters = ['a','b','c','d','e','f']\n",
    "labs = ['no correction', 'GF correction', 'like if at 0 m']\n",
    "for i, k in enumerate(ks):\n",
    "    k.show(ax=axs[i,0], vmin=5, vmax=80)\n",
    "    axs[i,0].get_legend().remove()\n",
    "    axs[i,0].set_title('({:s}) Apparent ({:s})'.format(letters[i*2], labs[i]))\n",
    "    k.showResults(ax=axs[i,1], vmin=5, vmax=80)\n",
    "    axs[i,1].set_title('({:s}) Inverted ({:s})'.format(letters[i*2+1], labs[i]))"
   ],
   "outputs": []
  },
  {
   "cell_type": "markdown",
   "metadata": {},
   "source": [
    "### Observations:\n",
    "- when quadrature values are transformed to LIN ECa values (c), the ECa values are smaller as they take into account the air layer (0 mS/m) between the instrument and the ground.\n",
    "- inverting EC without correcting for the GF calibration shows larger amplitude in inverted EC values (i.e. the model conductivities are artificially elevated).\n",
    "- inverting data 'like if at 0 m' (i.e. wrongly assuming the data were collected on the ground) provides a range of inverted EC (f) much closer to 'GF corrected' inverted EC (d) however their distribution is not the same as the sensitivity patterns are incorrect. Hence, the sensitivity is artificially increased closer to the surface which  leads to higher EC values."
   ]
  },
  {
   "cell_type": "code",
   "execution_count": 5,
   "metadata": {},
   "source": [
    "# no correction\n",
    "k1 = Problem()\n",
    "k1.createSurvey('../src/examples/cover-crop/coverCropTransect.csv')\n",
    "k1.filterRange(vmax=40)\n",
    "\n",
    "# with correction\n",
    "k2 = Problem()\n",
    "k2.createSurvey('../src/examples/cover-crop/coverCropTransect.csv')\n",
    "k2.filterRange(vmax=40)\n",
    "k2.gfCorrection(calib='F-0m')\n",
    "\n",
    "ks = [k1, k2]\n",
    "for k in ks:\n",
    "    k.setInit(depths0=np.linspace(0.01, 3, 10))\n",
    "    k.invert(forwardModel='CS', method='Gauss-Newton')\n",
    "    \n",
    "# figure\n",
    "fig, axs = plt.subplots(len(ks), 2, figsize=(10,5))\n",
    "letters = ['a','b','c','d','e','f']\n",
    "labs = ['no correction', 'GF correction', 'like if at 0 m']\n",
    "for i, k in enumerate(ks):\n",
    "    k.show(ax=axs[i,0], vmin=10, vmax=40)\n",
    "    axs[i,0].get_legend().remove()\n",
    "    axs[i,0].set_title('({:s}) Apparent ({:s})'.format(letters[i*2], labs[i]))\n",
    "    k.showResults(ax=axs[i,1], vmin=10, vmax=40)\n",
    "    axs[i,1].set_title('({:s}) Inverted ({:s})'.format(letters[i*2+1], labs[i]))"
   ],
   "outputs": []
  },
  {
   "cell_type": "markdown",
   "metadata": {},
   "source": [
    "## Conclusions\n",
    "- It is important to be aware of which calibration has been used and what was the height of the instrument when data were collected\n",
    "- **If data are collected at 1 m above the ground, it is important to convert the calibrated ECa to a LIN ECa using `gfCorrection(calib='F-1m')`. This has important impact on the inversion.**\n",
    "- Inverting 'F-1m' ECa data as if they were taken at 0 m will likely lead to wrong inversion results due to the different sensitivity pattern if the device is at 0 m or at 1 m. It is hence not recommended.\n",
    "> Note: we do not recommend using the 'F-0m' or 'F-Ground' calibration to collect data at 1 m above the ground as this will reduce the precision of the ECa values collected. We rather recommend to transform them after.\n",
    "- If the data were collected on the ground, the GF correction can still be applied but it's impact on the inversion will be smaller.\n",
    "- EMI inversion always have some uncertainty due to the small number of coils compared to the number of parameters. However, we found out that not applying this GF correction when collecting data with 'F-1m' lead to substantial distortion of the inverse results, greater than the 'normal' uncertainty of the inversion."
   ]
  }
 ],
 "metadata": {
  "kernelspec": {
   "display_name": "Python 3 (ipykernel)",
   "language": "python",
   "name": "python3"
  },
  "language_info": {
   "codemirror_mode": {
    "name": "ipython",
    "version": 3
   },
   "file_extension": ".py",
   "mimetype": "text/x-python",
   "name": "python",
   "nbconvert_exporter": "python",
   "pygments_lexer": "ipython3",
   "version": "3.10.12"
  }
 },
 "nbformat": 4,
 "nbformat_minor": 4
}
