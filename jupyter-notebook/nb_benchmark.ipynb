{
 "cells": [
  {
   "cell_type": "markdown",
   "metadata": {},
   "source": [
    "# Benchmarking the different inversion methods\n",
    "\n",
    "<cite data-cite=\"1960237/TBN6W5IG\"></cite>"
   ]
  },
  {
   "cell_type": "code",
   "execution_count": 1,
   "metadata": {},
   "source": [
    "import sys\n",
    "sys.path.append('../src')\n",
    "import time\n",
    "import numpy as np\n",
    "import matplotlib.pyplot as plt\n",
    "from emagpy import Problem\n",
    "\n",
    "datadir = '../src/examples/'\n",
    "timings = {}"
   ],
   "outputs": []
  },
  {
   "cell_type": "code",
   "execution_count": 2,
   "metadata": {},
   "source": [
    "k = Problem()\n",
    "k.createSurvey(datadir + 'cover-crop/coverCropTransect.csv')\n",
    "k.filterRange(vmax=50)\n",
    "k.show()\n",
    "k.setInit(depths0=np.linspace(0.1, 2, 10))"
   ],
   "outputs": []
  },
  {
   "cell_type": "code",
   "execution_count": 3,
   "metadata": {},
   "source": [
    "t0 = time.time()\n",
    "k.invert(forwardModel='CSgn')\n",
    "timings['CSgn'] = [time.time() - t0, np.mean(k.misfits[0])]\n",
    "\n",
    "t0 = time.time()\n",
    "k.invert(forwardModel='CS', method='L-BFGS-B', regularization='l2')\n",
    "timings['CS-L-BFGS-B'] = [time.time() - t0, np.mean(k.misfits[0])]\n",
    "\n",
    "t0 = time.time()\n",
    "k.invert(forwardModel='CS', method='Gauss-Newton', regularization='l2')\n",
    "timings['CS-GN'] = [time.time() - t0, np.mean(k.misfits[0])]"
   ],
   "outputs": []
  },
  {
   "cell_type": "code",
   "execution_count": 9,
   "metadata": {},
   "source": [
    "k.surveys[0].df = k.surveys[0].df[:4]\n",
    "\n",
    "t0 = time.time()\n",
    "k.invert(forwardModel='FSlin', method='L-BFGS-B', regularization='l2', njobs=-1)\n",
    "timings['FSlin-L-BFGS-B'] = [time.time() - t0, np.mean(k.misfits[0])]\n",
    "\n",
    "t0 = time.time()\n",
    "k.invert(forwardModel='FSlin', method='Gauss-Newton', regularization='l1')\n",
    "timings['FSlin-GN'] = [time.time() - t0, np.mean(k.misfits[0])]"
   ],
   "outputs": []
  },
  {
   "cell_type": "code",
   "execution_count": 10,
   "metadata": {},
   "source": [
    "t0 = time.time()\n",
    "k.invert(forwardModel='FSeq', method='L-BFGS-B', regularization='l1', njobs=-1)\n",
    "timings['FSeq-L-BFGS-B'] = [time.time() - t0, np.mean(k.misfits[0])]"
   ],
   "outputs": []
  },
  {
   "cell_type": "code",
   "execution_count": 11,
   "metadata": {},
   "source": [
    "t0 = time.time()\n",
    "k.invert(forwardModel='FSeq', method='Gauss-Newton', regularization='l1')\n",
    "timings['FSeq-GN'] = [time.time() - t0, np.mean(k.misfits[0])]"
   ],
   "outputs": []
  },
  {
   "cell_type": "code",
   "execution_count": 12,
   "metadata": {},
   "source": [
    "for key in timings:\n",
    "    print('{:15s}: {:2.3f} s, RRMSE {:2.2f} %'.format(key, *timings[key]))"
   ],
   "outputs": []
  },
  {
   "cell_type": "markdown",
   "metadata": {},
   "source": [
    "Timing, depends on the type of forward model, the method chosen and the number of parameters of the model (number of layers and depths)."
   ]
  },
  {
   "cell_type": "code",
   "execution_count": null,
   "metadata": {},
   "source": [],
   "outputs": []
  }
 ],
 "metadata": {
  "cite2c": {
   "citations": {
    "1960237/TBN6W5IG": {
     "DOI": "10.3390/s19214753",
     "URL": "https://www.mdpi.com/1424-8220/19/21/4753",
     "abstract": "Multi-coil electromagnetic induction (EMI) systems induce magnetic ﬁelds below and above the subsurface. The resulting magnetic ﬁeld is measured at multiple coils increasingly separated from the transmitter in a rigid boom. This ﬁeld relates to the subsurface apparent electrical conductivity (σa), and σa represents an average value for the depth range investigated with a speciﬁc coil separation and orientation. Multi-coil EMI data can be inverted to obtain layered bulk electrical conductivity models. However, above-ground stationary inﬂuences alter the signal and the inversion results can be unreliable. This study proposes an improved data processing chain, including EMI data calibration, conversion, and inversion. For the calibration of σa, three direct current resistivity techniques are compared: Electrical resistivity tomography with Dipole-Dipole and Schlumberger electrode arrays and vertical electrical soundings. All three methods obtained robust calibration results. The Dipole-Dipole-based calibration proved stable upon testing on diﬀerent soil types. To further improve accuracy, we propose a non-linear exact EMI conversion to convert the magnetic ﬁeld to σa. The complete processing workﬂow provides accurate and quantitative EMI data and the inversions reliable estimates of the intrinsic electrical conductivities. This improves the ability to combine EMI with, e.g., remote sensing, and the use of EMI for monitoring purposes.",
     "accessed": {
      "day": 9,
      "month": 11,
      "year": 2019
     },
     "author": [
      {
       "family": "von Hebel",
       "given": ""
      },
      {
       "family": "van der Kruk",
       "given": ""
      },
      {
       "family": "Huisman",
       "given": ""
      },
      {
       "family": "Mester",
       "given": ""
      },
      {
       "family": "Altdorff",
       "given": ""
      },
      {
       "family": "Endres",
       "given": ""
      },
      {
       "family": "Zimmermann",
       "given": ""
      },
      {
       "family": "Garré",
       "given": ""
      },
      {
       "family": "Vereecken",
       "given": ""
      }
     ],
     "container-title": "Sensors",
     "container-title-short": "Sensors",
     "id": "1960237/TBN6W5IG",
     "issue": "21",
     "issued": {
      "day": 1,
      "month": 11,
      "year": 2019
     },
     "journalAbbreviation": "Sensors",
     "language": "en",
     "page": "4753",
     "page-first": "4753",
     "title": "Calibration, Conversion, and Quantitative Multi-Layer Inversion of Multi-Coil Rigid-Boom Electromagnetic Induction Data",
     "type": "article-journal",
     "volume": "19"
    }
   }
  },
  "kernelspec": {
   "display_name": "Python 3 (ipykernel)",
   "language": "python",
   "name": "python3"
  },
  "language_info": {
   "codemirror_mode": {
    "name": "ipython",
    "version": 3
   },
   "file_extension": ".py",
   "mimetype": "text/x-python",
   "name": "python",
   "nbconvert_exporter": "python",
   "pygments_lexer": "ipython3",
   "version": "3.10.12"
  }
 },
 "nbformat": 4,
 "nbformat_minor": 4
}
