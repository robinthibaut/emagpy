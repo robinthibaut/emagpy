{
 "cells": [
  {
   "cell_type": "markdown",
   "metadata": {},
   "source": [
    "## Time-lapse field application\n",
    "This study has been demonstrated in the EMagPy paper [McLachlan et al. (2021)](https://doi.org/10.1016/j.cageo.2020.104561).\n",
    "\n",
    "Time-lapse EMI can be used to monitor the change in soil moisture in the field. In this case, time-lapse EMI survey were collected under different winter wheat varieties. We can invert the EMI data by computing the change in ECa and inverting this change using the Gauss-Newton solver (`CSgn`) as demonstrated in [Whalley et al. (2017)](https://doi.org/10.1007/s11104-016-3161-1).\n",
    "\n",
    "The figure below shows the evolution of the inverted change in electrical conductivity throughout the growth season (a to d) and of the measured soil moisture content from neutron probe (e to h). EC and WC changes are expressed as absolute difference relative to 2017-03-16 (models a and e). Deeper and larger decrease in EC is observed throughout the season mainly (b, c and d) following the change in soil moisture (f, g and h) mainly driven by root water uptake."
   ]
  },
  {
   "cell_type": "code",
   "execution_count": 1,
   "metadata": {},
   "source": [
    "import numpy as np\n",
    "import matplotlib.pyplot as plt\n",
    "import matplotlib as mpl\n",
    "from datetime import datetime\n",
    "import pandas as pd\n",
    "from scipy import stats\n",
    "import sys\n",
    "sys.path.append('../src') # add path where emagpy is\n",
    "from emagpy import Problem\n",
    "\n",
    "datadir = '../src/examples/'\n",
    "\n",
    "letters = ['a','b','c','d','e','f','g','h','i','j']"
   ],
   "outputs": []
  },
  {
   "cell_type": "code",
   "execution_count": 2,
   "metadata": {},
   "source": [
    "# inversion of change\n",
    "fnames = [\n",
    "        datadir + 'timelapse-wheat/eca2017-03-16.csv',\n",
    "        datadir + 'timelapse-wheat/eca2017-04-03.csv',\n",
    "        datadir + 'timelapse-wheat/eca2017-04-27.csv',\n",
    "        datadir + 'timelapse-wheat/eca2017-05-16.csv']\n",
    "k = Problem()\n",
    "k.createTimeLapseSurvey(fnames) # import all surveys\n",
    "# k.setInit(depths0=np.linspace(0.1, 2, 10)) # smooth multiple fixed depths model\n",
    "k.setInit(depths0=np.array([0.225, 0.4  , 0.6  , 0.85 , 1.125, 1.35]))\n",
    "k.computeApparentChange() # compute change in ECa compared to first survey\n",
    "k.invert(forwardModel='CSgn', alpha=0.07) # Gauss-Newton routine"
   ],
   "outputs": []
  },
  {
   "cell_type": "code",
   "execution_count": 3,
   "metadata": {},
   "source": [
    "# we use the structure of EMagPy to import the soil moisture data and plot them\n",
    "fnamesWC = [\n",
    "        datadir + 'timelapse-wheat/wc2017-03-16.csv',\n",
    "        datadir + 'timelapse-wheat/wc2017-04-05.csv',\n",
    "        datadir + 'timelapse-wheat/wc2017-04-26.csv',\n",
    "        datadir + 'timelapse-wheat/wc2017-05-18.csv',\n",
    "        ]\n",
    "kwc = Problem()\n",
    "kwc.importModel(fnamesWC)\n",
    "kwc.computeChange()"
   ],
   "outputs": []
  },
  {
   "cell_type": "code",
   "execution_count": 4,
   "metadata": {},
   "source": [
    "# graph of inverted conductivities change relative to background\n",
    "rmse = k.getRMSE()\n",
    "fig, axs = plt.subplots(2, 4, figsize=(14, 5), sharex=True, sharey=True)\n",
    "for i, s in enumerate(k.surveys):\n",
    "    ax = axs[0, i]\n",
    "    if i == 0:\n",
    "        k.showResults(i, ax=ax, contour=False, maxDepth=2)\n",
    "    else:\n",
    "        k.showResults(i, ax=ax, vmin=-20, vmax=20, cmap='bwr_r', contour=False, maxDepth=2)\n",
    "    ax.set_title('({:s}) {:s}'.format(letters[i], s.name[3:]))\n",
    "    ax.set_xlabel('')\n",
    "    if i > 2:\n",
    "        fig.axes[-1].set_ylabel('EC change [mS/m]')\n",
    "    if i > 0:\n",
    "        ax.set_ylabel('')\n",
    "        if i != 3:\n",
    "            fig.axes[-1].set_ylabel('')\n",
    "    \n",
    "    ax = axs[1, i]\n",
    "    if i == 0:\n",
    "        kwc.showResults(i, ax=ax, contour=False, maxDepth=2)\n",
    "        fig.axes[-1].set_ylabel('WC [v/v]')\n",
    "    else:\n",
    "        kwc.showResults(i, ax=ax, cmap='bwr_r', vmin=-0.1, vmax=0.1, contour=False, maxDepth=2)\n",
    "    ax.set_title('({:s}) {:s}'.format(letters[i+4], s.name[3:]))\n",
    "    if i > 2:\n",
    "        fig.axes[-1].set_ylabel('WC change [v/v]')\n",
    "    if i > 0:\n",
    "        ax.set_ylabel('')\n",
    "        if i != 3:\n",
    "            fig.axes[-1].set_ylabel('')\n",
    "fig.tight_layout()"
   ],
   "outputs": []
  },
  {
   "cell_type": "code",
   "execution_count": 5,
   "metadata": {},
   "source": [
    "# computing correlation\n",
    "ec = np.array([k.models[i].flatten() for i in range(1, 3)]).flatten()\n",
    "wc = np.array([kwc.models[i].flatten() for i in range(1, 3)]).flatten()\n",
    "fig, ax = plt.subplots()\n",
    "ax.plot(ec, wc, '.')\n",
    "corr, pval = stats.spearmanr(ec, wc)\n",
    "print('Rs={:.2f}, p={:.3f}, Rs^2={:.2}'.format(corr, pval, corr**2))"
   ],
   "outputs": []
  }
 ],
 "metadata": {
  "kernelspec": {
   "display_name": "Python 3 (ipykernel)",
   "language": "python",
   "name": "python3"
  },
  "language_info": {
   "codemirror_mode": {
    "name": "ipython",
    "version": 3
   },
   "file_extension": ".py",
   "mimetype": "text/x-python",
   "name": "python",
   "nbconvert_exporter": "python",
   "pygments_lexer": "ipython3",
   "version": "3.10.12"
  }
 },
 "nbformat": 4,
 "nbformat_minor": 4
}
